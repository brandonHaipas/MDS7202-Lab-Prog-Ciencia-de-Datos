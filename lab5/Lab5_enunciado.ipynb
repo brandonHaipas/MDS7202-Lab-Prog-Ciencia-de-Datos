{
  "cells": [
    {
      "cell_type": "markdown",
      "metadata": {
        "id": "_Tgm8mCA9Dp3"
      },
      "source": [
        "# Laboratorio 5: Clasificación 🤗\n",
        "\n",
        "<center><strong>MDS7202: Laboratorio de Programación Científica para Ciencia de Datos - Primavera 2024</strong></center>\n"
      ]
    },
    {
      "cell_type": "markdown",
      "metadata": {
        "id": "11Kc_ibM9GXH"
      },
      "source": [
        "### Cuerpo Docente:\n",
        "\n",
        "- Profesores: Stefano Schiappacasse, Sebastián Tinoco\n",
        "- Auxiliares: Melanie Peña, Valentina Rojas\n",
        "- Ayudantes: Angelo Muñoz, Valentina Zúñiga"
      ]
    },
    {
      "cell_type": "markdown",
      "metadata": {
        "id": "u9dUSltr9JrN"
      },
      "source": [
        "### Equipo: SUPER IMPORTANTE - notebooks sin nombre no serán revisados\n",
        "\n",
        "- Nombre de alumno 1: Felipe Hernández\n",
        "- Nombre de alumno 2: Brandon Peña"
      ]
    },
    {
      "cell_type": "markdown",
      "metadata": {
        "id": "pC1IloytrsAx"
      },
      "source": [
        "### **Link de repositorio de GitHub:** [enlace](https://github.com/brandonHaipas/MDS7202-Lab-Prog-Ciencia-de-Datos/tree/main/Lab%201%20-%20Git)"
      ]
    },
    {
      "cell_type": "markdown",
      "metadata": {
        "id": "YBa48PDF9OHw"
      },
      "source": [
        "### Temas a tratar\n",
        "- Clasificación en problemas desbalanceados\n",
        "- Lightgbm y xgboost\n",
        "- Pipelines"
      ]
    },
    {
      "cell_type": "markdown",
      "metadata": {
        "id": "mkhnnMx49Qrh"
      },
      "source": [
        "## Reglas:\n",
        "\n",
        "- **Grupos de 2 personas**\n",
        "- Fecha de entrega: 6 días de plazo con descuento de 1 punto por día. Entregas Martes a las 23:59.\n",
        "- Instrucciones del lab el viernes a las 16:15 en formato online. Asistencia no es obligatoria, pero se recomienda fuertemente asistir.\n",
        "- <u>Prohibidas las copias</u>. Cualquier intento de copia será debidamente penalizado con el reglamento de la escuela.\n",
        "- Tienen que subir el laboratorio a u-cursos y a su repositorio de github. Labs que no estén en u-cursos no serán revisados. Recuerden que el repositorio también tiene nota.\n",
        "- Cualquier duda fuera del horario de clases al foro. Mensajes al equipo docente serán respondidos por este medio.\n",
        "- Pueden usar cualquier material del curso que estimen conveniente.\n"
      ]
    },
    {
      "cell_type": "markdown",
      "metadata": {
        "id": "sxzJ48Vv8quO"
      },
      "source": [
        "\n",
        "\n",
        "### Objetivos principales del laboratorio\n",
        "- Comprender cómo trabajar con problemas de clasificación con clases desbalanceadas.\n",
        "- Aplicar los modelos lightgbm y xgboost.\n",
        "- Practicar Pipelines"
      ]
    },
    {
      "cell_type": "markdown",
      "metadata": {
        "id": "k-ao0mOU64Ru"
      },
      "source": [
        "# Parte Teórica [12 puntos]\n",
        "\n",
        "\n"
      ]
    },
    {
      "cell_type": "markdown",
      "metadata": {
        "id": "ApXKwPDmxcEV"
      },
      "source": [
        "1. Explique cuál es la diferencia entre los datos de entrenamiento y validación. [1 punto]\n",
        "\n",
        "2. Explique cuál es el principal desafío al trabajar problemas de clasificación con data no supervisada. [1 punto]\n",
        "\n",
        "3. Explique en **sus palabras** qué es la matriz de confusión y para qué se utiliza. [1 puntos]\n",
        "\n",
        "4. Escriba la fórmula de las siguientes métricas y explique con **sus palabras** cómo se interpretan. [1 punto cada uno]\n",
        "\n",
        "  * Accuracy\n",
        "  * Precision\n",
        "  * Recall\n",
        "  * F1 score\n",
        "\n",
        "5. Explique qué métrica recomendaría para los siguientes contextos de clasificación. [1 punto cada uno]\n",
        "\n",
        "  * Mantenimiento predictivo de fallas de maquinaria pesada en la industria minera.  \n",
        "  * Detección de enfermedades altamente contagiosas.\n",
        "  * Aprobación de créditos de alto riesgo.\n",
        "  * Detección de crímenes.\n",
        "\n",
        "6. Explique qué es la calibración de modelos y para qué se usa. [1 punto]\n"
      ]
    },
    {
      "cell_type": "markdown",
      "metadata": {
        "id": "Yy4QMWD8-FPk"
      },
      "source": [
        "**Respuesta:**"
      ]
    },
    {
      "cell_type": "markdown",
      "metadata": {
        "id": "QYFdD1aK-ICa"
      },
      "source": [
        "1. Los datos de entrenamiento son aquellos que se utilizan para ajustar los parámetros del modelo, mientras que los de validación son un conjunto (disjunto al de entrenamiento) que se emplea para evaluar el modelo con observaciones distintas a las utilizadas en su ajuste.\n",
        "\n",
        "2. El principal desafío es el tener que construir etiquetas que permitan clasificar los datos. En estos casos, el mejor enfoque es realizar una segmentación no supervisada, por ejemplo, con clustering.\n",
        "\n",
        "3. Las matrices de confusiones comparan las clases reales y predichas por un modelo de clasificación sobre un determinado conjunto de datos, generalmente el de prueba. Se utiliza para observar si el modeo está clasificando correctamente, o bien, está \"confundiendo\" una clase por otra.\n",
        "\n",
        "4.\n",
        " - Accuracy ($\\frac{TP + TN}{TP + TN + FP + FN}$): Corresponde a la fracción de predicciones realizadas correctamente.\n",
        " - Precision ($\\frac{TP}{TP + FP}$): Corresponde a la fracción de predicciones positivas realizadas correctamente. Indica qué tan bien el modelo es capaz de detectar los verdaderos positivos, y no cometer falsos positivos.\n",
        " - Recall ($\\frac{TP}{TP + FN}$): Indica qué tan bien el modelo está clasificando la clase positiva. Es importante para detectar si se cometen falsos negativos.\n",
        " - F1 score ($\\frac{2 \\cdot Precision \\cdot Recall \\cdot}{Precision + Recall}$): Corresponde a la media armónica entre Precision y Recall, por lo que mide de forma simétrica ambas métricas.\n",
        "\n",
        "5.\n",
        "  * Mantenimiento predictivo de fallas de maquinaria pesada en la industria minera: Recall, porque una máquina que va a fallar y no se detecta puede ser costosa.\n",
        "  * Detección de enfermedades altamente contagiosas: Recall, porque el costo de cometer falsos negativos es alto, es una persona enferma que no se detecta.\n",
        "  * Aprobación de créditos de alto riesgo: Precision, pues un falso positivo es aprobar un crédito a alguien que no se debía.\n",
        "  * Detección de crímenes: F1 score, pues tanto Precision como Recall son importantes y se busca un equilibrio. Un falso positivo puede llevar a prisión a un inocente, pero un falso negativo puede dejar a un criminal en libertad.\n",
        "6. La calibración de modelos es el proceso mediante el cual se ajustan los modelos para que las probabilidades de predicción se ajusten a las del mundo real, es decir, de la data observada. Se usa mejorar las predicciones de los modelos, permitiendo que las probabilidades predichas por estos puedan interpretarse como frecuencias a largo plazo."
      ]
    },
    {
      "cell_type": "markdown",
      "metadata": {
        "id": "Jg_9jBqtgRDO"
      },
      "source": [
        "# Parte práctica [48 puntos]"
      ]
    },
    {
      "cell_type": "markdown",
      "metadata": {
        "id": "slm6yRfdfZwS"
      },
      "source": [
        "<p align=\"center\">\n",
        "  <img src=\"https://drive.google.com/uc?export=view&id=1BnO4tyh3vM2P199Ec9s3JjngQ4qQ9seP\"\n",
        "\" width=\"300\">\n",
        "</p>\n",
        "\n",
        "\n",
        "Tras el trágico despido de la mítica mascota de Maipú, Renacín decide adentrarse como consultor en el mercado futbolero, el cuál (para variar...) está cargado en especulaciones.\n",
        "\n",
        "Como su principal tarea será asesorar a los directivos de los clubes sobre cuál jugador comprar y cuál no, Renacín desea generar modelos predictivos que evaluén distintas características de los jugadores; todo con el fin de tomar decisiones concretas basadas en los datos.\n",
        "\n",
        "Sin embargo, su condición de corporeo le impidió tomar la versión anterior de MDS7202, por lo que este motivo Renacín contrata a su equipo para lograr su objetivo final. Dado que aún tiene fuertes vínculos con la dirección de deportes de la municipalidad, el corporeo le entrega base de datos con las estadísticas de cada jugador para que su equipo empieze a trabajar ya con un dataset listo para ser usado.\n"
      ]
    },
    {
      "cell_type": "markdown",
      "metadata": {
        "id": "jnbx7RwHfkue"
      },
      "source": [
        "**Los Datos**\n",
        "\n",
        "Para este laboratorio deberán trabajar con el csv `statsplayers.csv`, donde deberán aplicar algoritmos de aprendizaje supervisado de clasificación en base a características que describen de jugadores de fútbol.\n",
        "\n",
        "Para comenzar cargue el dataset señalado y a continuación vea el reporte **`Player_Stats_Report.html`** (adjunto en la carpeta del enunciado) que describe las características principales del `DataFrame`."
      ]
    },
    {
      "cell_type": "code",
      "execution_count": null,
      "metadata": {
        "id": "mX6iwOWUfrp_"
      },
      "outputs": [],
      "source": [
        "# Si usted está utilizando Colabolatory le puede ser útil este código para cargar los archivos.\n",
        "try:\n",
        "    from google.colab import drive\n",
        "    drive.mount(\"/content/drive\")\n",
        "    path = 'Dirección donde tiene los archivos en el Drive'\n",
        "except:\n",
        "    print('Ignorando conexión drive-colab')"
      ]
    },
    {
      "cell_type": "code",
      "source": [
        "!pip install pycaret[full]"
      ],
      "metadata": {
        "colab": {
          "base_uri": "https://localhost:8080/"
        },
        "collapsed": true,
        "id": "5eQ511y66oXj",
        "outputId": "b7dfa164-6ba7-44f3-d39f-593471b6525d"
      },
      "execution_count": 25,
      "outputs": [
        {
          "output_type": "stream",
          "name": "stdout",
          "text": [
            "Requirement already satisfied: pycaret[full] in /usr/local/lib/python3.11/dist-packages (3.3.2)\n",
            "Requirement already satisfied: ipython>=5.5.0 in /usr/local/lib/python3.11/dist-packages (from pycaret[full]) (7.34.0)\n",
            "Requirement already satisfied: ipywidgets>=7.6.5 in /usr/local/lib/python3.11/dist-packages (from pycaret[full]) (7.7.1)\n",
            "Requirement already satisfied: tqdm>=4.62.0 in /usr/local/lib/python3.11/dist-packages (from pycaret[full]) (4.67.1)\n",
            "Requirement already satisfied: numpy<1.27,>=1.21 in /usr/local/lib/python3.11/dist-packages (from pycaret[full]) (1.26.4)\n",
            "Requirement already satisfied: pandas<2.2.0 in /usr/local/lib/python3.11/dist-packages (from pycaret[full]) (2.1.4)\n",
            "Requirement already satisfied: jinja2>=3 in /usr/local/lib/python3.11/dist-packages (from pycaret[full]) (3.1.6)\n",
            "Requirement already satisfied: scipy<=1.11.4,>=1.6.1 in /usr/local/lib/python3.11/dist-packages (from pycaret[full]) (1.11.4)\n",
            "Requirement already satisfied: joblib<1.4,>=1.2.0 in /usr/local/lib/python3.11/dist-packages (from pycaret[full]) (1.3.2)\n",
            "Requirement already satisfied: scikit-learn>1.4.0 in /usr/local/lib/python3.11/dist-packages (from pycaret[full]) (1.4.2)\n",
            "Requirement already satisfied: pyod>=1.1.3 in /usr/local/lib/python3.11/dist-packages (from pycaret[full]) (2.0.5)\n",
            "Requirement already satisfied: imbalanced-learn>=0.12.0 in /usr/local/lib/python3.11/dist-packages (from pycaret[full]) (0.13.0)\n",
            "Requirement already satisfied: category-encoders>=2.4.0 in /usr/local/lib/python3.11/dist-packages (from pycaret[full]) (2.7.0)\n",
            "Requirement already satisfied: lightgbm>=3.0.0 in /usr/local/lib/python3.11/dist-packages (from pycaret[full]) (4.5.0)\n",
            "Requirement already satisfied: numba>=0.55.0 in /usr/local/lib/python3.11/dist-packages (from pycaret[full]) (0.60.0)\n",
            "Requirement already satisfied: requests>=2.27.1 in /usr/local/lib/python3.11/dist-packages (from pycaret[full]) (2.32.3)\n",
            "Requirement already satisfied: psutil>=5.9.0 in /usr/local/lib/python3.11/dist-packages (from pycaret[full]) (5.9.5)\n",
            "Requirement already satisfied: markupsafe>=2.0.1 in /usr/local/lib/python3.11/dist-packages (from pycaret[full]) (3.0.2)\n",
            "Requirement already satisfied: importlib-metadata>=4.12.0 in /usr/local/lib/python3.11/dist-packages (from pycaret[full]) (8.6.1)\n",
            "Requirement already satisfied: nbformat>=4.2.0 in /usr/local/lib/python3.11/dist-packages (from pycaret[full]) (5.10.4)\n",
            "Requirement already satisfied: cloudpickle in /usr/local/lib/python3.11/dist-packages (from pycaret[full]) (3.1.1)\n",
            "Requirement already satisfied: deprecation>=2.1.0 in /usr/local/lib/python3.11/dist-packages (from pycaret[full]) (2.1.0)\n",
            "Requirement already satisfied: xxhash in /usr/local/lib/python3.11/dist-packages (from pycaret[full]) (3.5.0)\n",
            "Requirement already satisfied: matplotlib<3.8.0 in /usr/local/lib/python3.11/dist-packages (from pycaret[full]) (3.7.5)\n",
            "Requirement already satisfied: scikit-plot>=0.3.7 in /usr/local/lib/python3.11/dist-packages (from pycaret[full]) (0.3.7)\n",
            "Requirement already satisfied: yellowbrick>=1.4 in /usr/local/lib/python3.11/dist-packages (from pycaret[full]) (1.5)\n",
            "Requirement already satisfied: plotly>=5.14.0 in /usr/local/lib/python3.11/dist-packages (from pycaret[full]) (5.24.1)\n",
            "Requirement already satisfied: kaleido>=0.2.1 in /usr/local/lib/python3.11/dist-packages (from pycaret[full]) (0.2.1)\n",
            "Requirement already satisfied: schemdraw==0.15 in /usr/local/lib/python3.11/dist-packages (from pycaret[full]) (0.15)\n",
            "Requirement already satisfied: plotly-resampler>=0.8.3.1 in /usr/local/lib/python3.11/dist-packages (from pycaret[full]) (0.10.0)\n",
            "Requirement already satisfied: statsmodels>=0.12.1 in /usr/local/lib/python3.11/dist-packages (from pycaret[full]) (0.14.4)\n",
            "Requirement already satisfied: sktime==0.26.0 in /usr/local/lib/python3.11/dist-packages (from pycaret[full]) (0.26.0)\n",
            "Requirement already satisfied: tbats>=1.1.3 in /usr/local/lib/python3.11/dist-packages (from pycaret[full]) (1.1.3)\n",
            "Requirement already satisfied: pmdarima>=2.0.4 in /usr/local/lib/python3.11/dist-packages (from pycaret[full]) (2.0.4)\n",
            "Requirement already satisfied: wurlitzer in /usr/local/lib/python3.11/dist-packages (from pycaret[full]) (3.1.1)\n",
            "Requirement already satisfied: shap~=0.44.0 in /usr/local/lib/python3.11/dist-packages (from pycaret[full]) (0.44.1)\n",
            "Requirement already satisfied: interpret>=0.2.7 in /usr/local/lib/python3.11/dist-packages (from pycaret[full]) (0.6.10)\n",
            "Requirement already satisfied: umap-learn>=0.5.2 in /usr/local/lib/python3.11/dist-packages (from pycaret[full]) (0.5.7)\n",
            "Requirement already satisfied: pyyaml in /usr/local/lib/python3.11/dist-packages (from pycaret[full]) (6.0.2)\n",
            "Requirement already satisfied: ydata-profiling>=4.3.1 in /usr/local/lib/python3.11/dist-packages (from pycaret[full]) (4.16.1)\n",
            "Requirement already satisfied: explainerdashboard>=0.3.8 in /usr/local/lib/python3.11/dist-packages (from pycaret[full]) (0.4.8)\n",
            "Requirement already satisfied: fairlearn==0.7.0 in /usr/local/lib/python3.11/dist-packages (from pycaret[full]) (0.7.0)\n",
            "Requirement already satisfied: kmodes>=0.11.1 in /usr/local/lib/python3.11/dist-packages (from pycaret[full]) (0.12.2)\n",
            "Requirement already satisfied: mlxtend>=0.19.0 in /usr/local/lib/python3.11/dist-packages (from pycaret[full]) (0.23.4)\n",
            "Requirement already satisfied: statsforecast<1.6.0,>=0.5.5 in /usr/local/lib/python3.11/dist-packages (from pycaret[full]) (1.5.0)\n",
            "Requirement already satisfied: hyperopt>=0.2.7 in /usr/local/lib/python3.11/dist-packages (from pycaret[full]) (0.2.7)\n",
            "Requirement already satisfied: optuna>=3.0.0 in /usr/local/lib/python3.11/dist-packages (from pycaret[full]) (4.3.0)\n",
            "Requirement already satisfied: optuna-integration in /usr/local/lib/python3.11/dist-packages (from pycaret[full]) (4.3.0)\n",
            "Requirement already satisfied: scikit-optimize>=0.9.0 in /usr/local/lib/python3.11/dist-packages (from pycaret[full]) (0.10.2)\n",
            "Requirement already satisfied: mlflow>=2.0.0 in /usr/local/lib/python3.11/dist-packages (from pycaret[full]) (2.22.0)\n",
            "Requirement already satisfied: gradio>=3.50.2 in /usr/local/lib/python3.11/dist-packages (from pycaret[full]) (5.28.0)\n",
            "Requirement already satisfied: boto3>=1.24.56 in /usr/local/lib/python3.11/dist-packages (from pycaret[full]) (1.38.5)\n",
            "Requirement already satisfied: fastapi in /usr/local/lib/python3.11/dist-packages (from pycaret[full]) (0.115.12)\n",
            "Requirement already satisfied: uvicorn>=0.17.6 in /usr/local/lib/python3.11/dist-packages (from pycaret[full]) (0.34.2)\n",
            "Requirement already satisfied: m2cgen>=0.9.0 in /usr/local/lib/python3.11/dist-packages (from pycaret[full]) (0.10.0)\n",
            "Requirement already satisfied: evidently~=0.4.16 in /usr/local/lib/python3.11/dist-packages (from pycaret[full]) (0.4.40)\n",
            "Requirement already satisfied: dask>=2024.4.1 in /usr/local/lib/python3.11/dist-packages (from pycaret[full]) (2024.12.1)\n",
            "Requirement already satisfied: distributed>=2024.4.1 in /usr/local/lib/python3.11/dist-packages (from pycaret[full]) (2024.12.1)\n",
            "Requirement already satisfied: fugue~=0.8.0 in /usr/local/lib/python3.11/dist-packages (from pycaret[full]) (0.8.7)\n",
            "Requirement already satisfied: flask in /usr/local/lib/python3.11/dist-packages (from pycaret[full]) (2.3.3)\n",
            "Requirement already satisfied: Werkzeug<3.0,>=2.2 in /usr/local/lib/python3.11/dist-packages (from pycaret[full]) (2.3.8)\n",
            "Requirement already satisfied: pytest<8.0.0 in /usr/local/lib/python3.11/dist-packages (from pycaret[full]) (7.4.4)\n",
            "Requirement already satisfied: moto<5.0.0 in /usr/local/lib/python3.11/dist-packages (from pycaret[full]) (4.2.14)\n",
            "Requirement already satisfied: dash[testing] in /usr/local/lib/python3.11/dist-packages (from pycaret[full]) (2.18.2)\n",
            "Requirement already satisfied: scikit-learn-intelex>=2023.0.1 in /usr/local/lib/python3.11/dist-packages (from pycaret[full]) (2025.5.0)\n",
            "Requirement already satisfied: catboost>=0.23.2 in /usr/local/lib/python3.11/dist-packages (from pycaret[full]) (1.2.8)\n",
            "Requirement already satisfied: xgboost>=1.1.0 in /usr/local/lib/python3.11/dist-packages (from pycaret[full]) (2.1.4)\n",
            "Requirement already satisfied: packaging in /usr/local/lib/python3.11/dist-packages (from sktime==0.26.0->pycaret[full]) (24.2)\n",
            "Requirement already satisfied: scikit-base<0.8.0 in /usr/local/lib/python3.11/dist-packages (from sktime==0.26.0->pycaret[full]) (0.7.8)\n",
            "Requirement already satisfied: botocore<1.39.0,>=1.38.5 in /usr/local/lib/python3.11/dist-packages (from boto3>=1.24.56->pycaret[full]) (1.38.5)\n",
            "Requirement already satisfied: jmespath<2.0.0,>=0.7.1 in /usr/local/lib/python3.11/dist-packages (from boto3>=1.24.56->pycaret[full]) (1.0.1)\n",
            "Requirement already satisfied: s3transfer<0.13.0,>=0.12.0 in /usr/local/lib/python3.11/dist-packages (from boto3>=1.24.56->pycaret[full]) (0.12.0)\n",
            "Requirement already satisfied: graphviz in /usr/local/lib/python3.11/dist-packages (from catboost>=0.23.2->pycaret[full]) (0.20.3)\n",
            "Requirement already satisfied: six in /usr/local/lib/python3.11/dist-packages (from catboost>=0.23.2->pycaret[full]) (1.17.0)\n",
            "Requirement already satisfied: patsy>=0.5.1 in /usr/local/lib/python3.11/dist-packages (from category-encoders>=2.4.0->pycaret[full]) (1.0.1)\n",
            "Requirement already satisfied: click>=8.1 in /usr/local/lib/python3.11/dist-packages (from dask>=2024.4.1->pycaret[full]) (8.1.8)\n",
            "Requirement already satisfied: fsspec>=2021.09.0 in /usr/local/lib/python3.11/dist-packages (from dask>=2024.4.1->pycaret[full]) (2025.3.2)\n",
            "Requirement already satisfied: partd>=1.4.0 in /usr/local/lib/python3.11/dist-packages (from dask>=2024.4.1->pycaret[full]) (1.4.2)\n",
            "Requirement already satisfied: toolz>=0.10.0 in /usr/local/lib/python3.11/dist-packages (from dask>=2024.4.1->pycaret[full]) (0.12.1)\n",
            "Requirement already satisfied: locket>=1.0.0 in /usr/local/lib/python3.11/dist-packages (from distributed>=2024.4.1->pycaret[full]) (1.0.0)\n",
            "Requirement already satisfied: msgpack>=1.0.2 in /usr/local/lib/python3.11/dist-packages (from distributed>=2024.4.1->pycaret[full]) (1.1.0)\n",
            "Requirement already satisfied: sortedcontainers>=2.0.5 in /usr/local/lib/python3.11/dist-packages (from distributed>=2024.4.1->pycaret[full]) (2.4.0)\n",
            "Requirement already satisfied: tblib>=1.6.0 in /usr/local/lib/python3.11/dist-packages (from distributed>=2024.4.1->pycaret[full]) (3.1.0)\n",
            "Requirement already satisfied: tornado>=6.2.0 in /usr/local/lib/python3.11/dist-packages (from distributed>=2024.4.1->pycaret[full]) (6.4.2)\n",
            "Requirement already satisfied: urllib3>=1.26.5 in /usr/local/lib/python3.11/dist-packages (from distributed>=2024.4.1->pycaret[full]) (1.26.20)\n",
            "Requirement already satisfied: zict>=3.0.0 in /usr/local/lib/python3.11/dist-packages (from distributed>=2024.4.1->pycaret[full]) (3.0.0)\n",
            "Requirement already satisfied: nltk>=3.6.7 in /usr/local/lib/python3.11/dist-packages (from evidently~=0.4.16->pycaret[full]) (3.9.1)\n",
            "Requirement already satisfied: pydantic>=1.10.13 in /usr/local/lib/python3.11/dist-packages (from evidently~=0.4.16->pycaret[full]) (2.11.3)\n",
            "Requirement already satisfied: litestar>=2.8.3 in /usr/local/lib/python3.11/dist-packages (from evidently~=0.4.16->pycaret[full]) (2.15.2)\n",
            "Requirement already satisfied: typing-inspect>=0.9.0 in /usr/local/lib/python3.11/dist-packages (from evidently~=0.4.16->pycaret[full]) (0.9.0)\n",
            "Requirement already satisfied: watchdog>=3.0.0 in /usr/local/lib/python3.11/dist-packages (from evidently~=0.4.16->pycaret[full]) (6.0.0)\n",
            "Requirement already satisfied: typer>=0.3 in /usr/local/lib/python3.11/dist-packages (from evidently~=0.4.16->pycaret[full]) (0.15.2)\n",
            "Requirement already satisfied: rich>=13 in /usr/local/lib/python3.11/dist-packages (from evidently~=0.4.16->pycaret[full]) (13.9.4)\n",
            "Requirement already satisfied: iterative-telemetry>=0.0.5 in /usr/local/lib/python3.11/dist-packages (from evidently~=0.4.16->pycaret[full]) (0.0.10)\n",
            "Requirement already satisfied: dynaconf>=3.2.4 in /usr/local/lib/python3.11/dist-packages (from evidently~=0.4.16->pycaret[full]) (3.2.10)\n",
            "Requirement already satisfied: certifi>=2024.7.4 in /usr/local/lib/python3.11/dist-packages (from evidently~=0.4.16->pycaret[full]) (2025.1.31)\n",
            "Requirement already satisfied: ujson>=5.4.0 in /usr/local/lib/python3.11/dist-packages (from evidently~=0.4.16->pycaret[full]) (5.10.0)\n",
            "Requirement already satisfied: uuid6>=2024.7.10 in /usr/local/lib/python3.11/dist-packages (from evidently~=0.4.16->pycaret[full]) (2024.7.10)\n",
            "Requirement already satisfied: cryptography>=43.0.1 in /usr/local/lib/python3.11/dist-packages (from evidently~=0.4.16->pycaret[full]) (43.0.3)\n",
            "Requirement already satisfied: dash-auth in /usr/local/lib/python3.11/dist-packages (from explainerdashboard>=0.3.8->pycaret[full]) (2.3.0)\n",
            "Requirement already satisfied: dash-bootstrap-components>=1 in /usr/local/lib/python3.11/dist-packages (from explainerdashboard>=0.3.8->pycaret[full]) (1.7.1)\n",
            "Requirement already satisfied: dtreeviz>=2.1 in /usr/local/lib/python3.11/dist-packages (from explainerdashboard>=0.3.8->pycaret[full]) (2.2.2)\n",
            "Requirement already satisfied: flask_simplelogin in /usr/local/lib/python3.11/dist-packages (from explainerdashboard>=0.3.8->pycaret[full]) (0.2.0)\n",
            "Requirement already satisfied: Flask-WTF>=1.1 in /usr/local/lib/python3.11/dist-packages (from explainerdashboard>=0.3.8->pycaret[full]) (1.2.2)\n",
            "Requirement already satisfied: jupyter_dash>=0.4.1 in /usr/local/lib/python3.11/dist-packages (from explainerdashboard>=0.3.8->pycaret[full]) (0.4.2)\n",
            "Requirement already satisfied: oyaml in /usr/local/lib/python3.11/dist-packages (from explainerdashboard>=0.3.8->pycaret[full]) (1.0)\n",
            "Requirement already satisfied: waitress in /usr/local/lib/python3.11/dist-packages (from explainerdashboard>=0.3.8->pycaret[full]) (3.0.2)\n",
            "Requirement already satisfied: triad>=0.9.3 in /usr/local/lib/python3.11/dist-packages (from fugue~=0.8.0->pycaret[full]) (0.9.8)\n",
            "Requirement already satisfied: adagio>=0.2.4 in /usr/local/lib/python3.11/dist-packages (from fugue~=0.8.0->pycaret[full]) (0.2.6)\n",
            "Requirement already satisfied: qpd>=0.4.4 in /usr/local/lib/python3.11/dist-packages (from fugue~=0.8.0->pycaret[full]) (0.4.4)\n",
            "Requirement already satisfied: fugue-sql-antlr>=0.1.6 in /usr/local/lib/python3.11/dist-packages (from fugue~=0.8.0->pycaret[full]) (0.2.2)\n",
            "Requirement already satisfied: sqlglot in /usr/local/lib/python3.11/dist-packages (from fugue~=0.8.0->pycaret[full]) (25.20.2)\n",
            "Requirement already satisfied: aiofiles<25.0,>=22.0 in /usr/local/lib/python3.11/dist-packages (from gradio>=3.50.2->pycaret[full]) (24.1.0)\n",
            "Requirement already satisfied: anyio<5.0,>=3.0 in /usr/local/lib/python3.11/dist-packages (from gradio>=3.50.2->pycaret[full]) (4.9.0)\n",
            "Requirement already satisfied: ffmpy in /usr/local/lib/python3.11/dist-packages (from gradio>=3.50.2->pycaret[full]) (0.5.0)\n",
            "Requirement already satisfied: gradio-client==1.10.0 in /usr/local/lib/python3.11/dist-packages (from gradio>=3.50.2->pycaret[full]) (1.10.0)\n",
            "Requirement already satisfied: groovy~=0.1 in /usr/local/lib/python3.11/dist-packages (from gradio>=3.50.2->pycaret[full]) (0.1.2)\n",
            "Requirement already satisfied: httpx>=0.24.1 in /usr/local/lib/python3.11/dist-packages (from gradio>=3.50.2->pycaret[full]) (0.28.1)\n",
            "Requirement already satisfied: huggingface-hub>=0.28.1 in /usr/local/lib/python3.11/dist-packages (from gradio>=3.50.2->pycaret[full]) (0.30.2)\n",
            "Requirement already satisfied: orjson~=3.0 in /usr/local/lib/python3.11/dist-packages (from gradio>=3.50.2->pycaret[full]) (3.10.16)\n",
            "Requirement already satisfied: pillow<12.0,>=8.0 in /usr/local/lib/python3.11/dist-packages (from gradio>=3.50.2->pycaret[full]) (11.2.1)\n",
            "Requirement already satisfied: pydub in /usr/local/lib/python3.11/dist-packages (from gradio>=3.50.2->pycaret[full]) (0.25.1)\n",
            "Requirement already satisfied: python-multipart>=0.0.18 in /usr/local/lib/python3.11/dist-packages (from gradio>=3.50.2->pycaret[full]) (0.0.20)\n",
            "Requirement already satisfied: ruff>=0.9.3 in /usr/local/lib/python3.11/dist-packages (from gradio>=3.50.2->pycaret[full]) (0.11.7)\n",
            "Requirement already satisfied: safehttpx<0.2.0,>=0.1.6 in /usr/local/lib/python3.11/dist-packages (from gradio>=3.50.2->pycaret[full]) (0.1.6)\n",
            "Requirement already satisfied: semantic-version~=2.0 in /usr/local/lib/python3.11/dist-packages (from gradio>=3.50.2->pycaret[full]) (2.10.0)\n",
            "Requirement already satisfied: starlette<1.0,>=0.40.0 in /usr/local/lib/python3.11/dist-packages (from gradio>=3.50.2->pycaret[full]) (0.46.2)\n",
            "Requirement already satisfied: tomlkit<0.14.0,>=0.12.0 in /usr/local/lib/python3.11/dist-packages (from gradio>=3.50.2->pycaret[full]) (0.13.2)\n",
            "Requirement already satisfied: typing-extensions~=4.0 in /usr/local/lib/python3.11/dist-packages (from gradio>=3.50.2->pycaret[full]) (4.13.2)\n",
            "Requirement already satisfied: websockets<16.0,>=10.0 in /usr/local/lib/python3.11/dist-packages (from gradio-client==1.10.0->gradio>=3.50.2->pycaret[full]) (15.0.1)\n",
            "Requirement already satisfied: networkx>=2.2 in /usr/local/lib/python3.11/dist-packages (from hyperopt>=0.2.7->pycaret[full]) (3.4.2)\n",
            "Requirement already satisfied: future in /usr/local/lib/python3.11/dist-packages (from hyperopt>=0.2.7->pycaret[full]) (1.0.0)\n",
            "Requirement already satisfied: py4j in /usr/local/lib/python3.11/dist-packages (from hyperopt>=0.2.7->pycaret[full]) (0.10.9.7)\n",
            "Requirement already satisfied: sklearn-compat<1,>=0.1 in /usr/local/lib/python3.11/dist-packages (from imbalanced-learn>=0.12.0->pycaret[full]) (0.1.3)\n",
            "Requirement already satisfied: threadpoolctl<4,>=2.0.0 in /usr/local/lib/python3.11/dist-packages (from imbalanced-learn>=0.12.0->pycaret[full]) (3.6.0)\n",
            "Requirement already satisfied: zipp>=3.20 in /usr/local/lib/python3.11/dist-packages (from importlib-metadata>=4.12.0->pycaret[full]) (3.21.0)\n",
            "Requirement already satisfied: interpret-core==0.6.10 in /usr/local/lib/python3.11/dist-packages (from interpret-core[aplr,dash,debug,linear,notebook,plotly,sensitivity,shap]==0.6.10->interpret>=0.2.7->pycaret[full]) (0.6.10)\n",
            "Requirement already satisfied: ipykernel>=4.10.0 in /usr/local/lib/python3.11/dist-packages (from interpret-core[aplr,dash,debug,linear,notebook,plotly,sensitivity,shap]==0.6.10->interpret>=0.2.7->pycaret[full]) (6.17.1)\n",
            "Requirement already satisfied: SALib>=1.3.3 in /usr/local/lib/python3.11/dist-packages (from interpret-core[aplr,dash,debug,linear,notebook,plotly,sensitivity,shap]==0.6.10->interpret>=0.2.7->pycaret[full]) (1.5.1)\n",
            "Requirement already satisfied: dill>=0.2.5 in /usr/local/lib/python3.11/dist-packages (from interpret-core[aplr,dash,debug,linear,notebook,plotly,sensitivity,shap]==0.6.10->interpret>=0.2.7->pycaret[full]) (0.4.0)\n",
            "Requirement already satisfied: aplr>=10.6.1 in /usr/local/lib/python3.11/dist-packages (from interpret-core[aplr,dash,debug,linear,notebook,plotly,sensitivity,shap]==0.6.10->interpret>=0.2.7->pycaret[full]) (10.9.0)\n",
            "Requirement already satisfied: dash-core-components>=1.0.0 in /usr/local/lib/python3.11/dist-packages (from interpret-core[aplr,dash,debug,linear,notebook,plotly,sensitivity,shap]==0.6.10->interpret>=0.2.7->pycaret[full]) (2.0.0)\n",
            "Requirement already satisfied: dash-html-components>=1.0.0 in /usr/local/lib/python3.11/dist-packages (from interpret-core[aplr,dash,debug,linear,notebook,plotly,sensitivity,shap]==0.6.10->interpret>=0.2.7->pycaret[full]) (2.0.0)\n",
            "Requirement already satisfied: dash-table>=4.1.0 in /usr/local/lib/python3.11/dist-packages (from interpret-core[aplr,dash,debug,linear,notebook,plotly,sensitivity,shap]==0.6.10->interpret>=0.2.7->pycaret[full]) (5.0.0)\n",
            "Requirement already satisfied: dash-cytoscape>=0.1.1 in /usr/local/lib/python3.11/dist-packages (from interpret-core[aplr,dash,debug,linear,notebook,plotly,sensitivity,shap]==0.6.10->interpret>=0.2.7->pycaret[full]) (1.0.2)\n",
            "Requirement already satisfied: gevent>=1.3.6 in /usr/local/lib/python3.11/dist-packages (from interpret-core[aplr,dash,debug,linear,notebook,plotly,sensitivity,shap]==0.6.10->interpret>=0.2.7->pycaret[full]) (25.4.2)\n",
            "Requirement already satisfied: setuptools>=18.5 in /usr/local/lib/python3.11/dist-packages (from ipython>=5.5.0->pycaret[full]) (75.2.0)\n",
            "Requirement already satisfied: jedi>=0.16 in /usr/local/lib/python3.11/dist-packages (from ipython>=5.5.0->pycaret[full]) (0.19.2)\n",
            "Requirement already satisfied: decorator in /usr/local/lib/python3.11/dist-packages (from ipython>=5.5.0->pycaret[full]) (4.4.2)\n",
            "Requirement already satisfied: pickleshare in /usr/local/lib/python3.11/dist-packages (from ipython>=5.5.0->pycaret[full]) (0.7.5)\n",
            "Requirement already satisfied: traitlets>=4.2 in /usr/local/lib/python3.11/dist-packages (from ipython>=5.5.0->pycaret[full]) (5.7.1)\n",
            "Requirement already satisfied: prompt-toolkit!=3.0.0,!=3.0.1,<3.1.0,>=2.0.0 in /usr/local/lib/python3.11/dist-packages (from ipython>=5.5.0->pycaret[full]) (3.0.51)\n",
            "Requirement already satisfied: pygments in /usr/local/lib/python3.11/dist-packages (from ipython>=5.5.0->pycaret[full]) (2.19.1)\n",
            "Requirement already satisfied: backcall in /usr/local/lib/python3.11/dist-packages (from ipython>=5.5.0->pycaret[full]) (0.2.0)\n",
            "Requirement already satisfied: matplotlib-inline in /usr/local/lib/python3.11/dist-packages (from ipython>=5.5.0->pycaret[full]) (0.1.7)\n",
            "Requirement already satisfied: pexpect>4.3 in /usr/local/lib/python3.11/dist-packages (from ipython>=5.5.0->pycaret[full]) (4.9.0)\n",
            "Requirement already satisfied: ipython-genutils~=0.2.0 in /usr/local/lib/python3.11/dist-packages (from ipywidgets>=7.6.5->pycaret[full]) (0.2.0)\n",
            "Requirement already satisfied: widgetsnbextension~=3.6.0 in /usr/local/lib/python3.11/dist-packages (from ipywidgets>=7.6.5->pycaret[full]) (3.6.10)\n",
            "Requirement already satisfied: jupyterlab-widgets>=1.0.0 in /usr/local/lib/python3.11/dist-packages (from ipywidgets>=7.6.5->pycaret[full]) (3.0.14)\n",
            "Requirement already satisfied: contourpy>=1.0.1 in /usr/local/lib/python3.11/dist-packages (from matplotlib<3.8.0->pycaret[full]) (1.3.2)\n",
            "Requirement already satisfied: cycler>=0.10 in /usr/local/lib/python3.11/dist-packages (from matplotlib<3.8.0->pycaret[full]) (0.12.1)\n",
            "Requirement already satisfied: fonttools>=4.22.0 in /usr/local/lib/python3.11/dist-packages (from matplotlib<3.8.0->pycaret[full]) (4.57.0)\n",
            "Requirement already satisfied: kiwisolver>=1.0.1 in /usr/local/lib/python3.11/dist-packages (from matplotlib<3.8.0->pycaret[full]) (1.4.8)\n",
            "Requirement already satisfied: pyparsing>=2.3.1 in /usr/local/lib/python3.11/dist-packages (from matplotlib<3.8.0->pycaret[full]) (3.2.3)\n",
            "Requirement already satisfied: python-dateutil>=2.7 in /usr/local/lib/python3.11/dist-packages (from matplotlib<3.8.0->pycaret[full]) (2.9.0.post0)\n",
            "Requirement already satisfied: mlflow-skinny==2.22.0 in /usr/local/lib/python3.11/dist-packages (from mlflow>=2.0.0->pycaret[full]) (2.22.0)\n",
            "Requirement already satisfied: alembic!=1.10.0,<2 in /usr/local/lib/python3.11/dist-packages (from mlflow>=2.0.0->pycaret[full]) (1.15.2)\n",
            "Requirement already satisfied: docker<8,>=4.0.0 in /usr/local/lib/python3.11/dist-packages (from mlflow>=2.0.0->pycaret[full]) (7.1.0)\n",
            "Requirement already satisfied: graphene<4 in /usr/local/lib/python3.11/dist-packages (from mlflow>=2.0.0->pycaret[full]) (3.4.3)\n",
            "Requirement already satisfied: gunicorn<24 in /usr/local/lib/python3.11/dist-packages (from mlflow>=2.0.0->pycaret[full]) (23.0.0)\n",
            "Requirement already satisfied: markdown<4,>=3.3 in /usr/local/lib/python3.11/dist-packages (from mlflow>=2.0.0->pycaret[full]) (3.8)\n",
            "Requirement already satisfied: pyarrow<20,>=4.0.0 in /usr/local/lib/python3.11/dist-packages (from mlflow>=2.0.0->pycaret[full]) (18.1.0)\n",
            "Requirement already satisfied: sqlalchemy<3,>=1.4.0 in /usr/local/lib/python3.11/dist-packages (from mlflow>=2.0.0->pycaret[full]) (2.0.40)\n",
            "Requirement already satisfied: cachetools<6,>=5.0.0 in /usr/local/lib/python3.11/dist-packages (from mlflow-skinny==2.22.0->mlflow>=2.0.0->pycaret[full]) (5.5.2)\n",
            "Requirement already satisfied: databricks-sdk<1,>=0.20.0 in /usr/local/lib/python3.11/dist-packages (from mlflow-skinny==2.22.0->mlflow>=2.0.0->pycaret[full]) (0.50.0)\n",
            "Requirement already satisfied: gitpython<4,>=3.1.9 in /usr/local/lib/python3.11/dist-packages (from mlflow-skinny==2.22.0->mlflow>=2.0.0->pycaret[full]) (3.1.44)\n",
            "Requirement already satisfied: opentelemetry-api<3,>=1.9.0 in /usr/local/lib/python3.11/dist-packages (from mlflow-skinny==2.22.0->mlflow>=2.0.0->pycaret[full]) (1.32.1)\n",
            "Requirement already satisfied: opentelemetry-sdk<3,>=1.9.0 in /usr/local/lib/python3.11/dist-packages (from mlflow-skinny==2.22.0->mlflow>=2.0.0->pycaret[full]) (1.32.1)\n",
            "Requirement already satisfied: protobuf<7,>=3.12.0 in /usr/local/lib/python3.11/dist-packages (from mlflow-skinny==2.22.0->mlflow>=2.0.0->pycaret[full]) (5.29.4)\n",
            "Requirement already satisfied: sqlparse<1,>=0.4.0 in /usr/local/lib/python3.11/dist-packages (from mlflow-skinny==2.22.0->mlflow>=2.0.0->pycaret[full]) (0.5.3)\n",
            "Requirement already satisfied: itsdangerous>=2.1.2 in /usr/local/lib/python3.11/dist-packages (from flask->pycaret[full]) (2.2.0)\n",
            "Requirement already satisfied: blinker>=1.6.2 in /usr/local/lib/python3.11/dist-packages (from flask->pycaret[full]) (1.9.0)\n",
            "Requirement already satisfied: xmltodict in /usr/local/lib/python3.11/dist-packages (from moto<5.0.0->pycaret[full]) (0.14.2)\n",
            "Requirement already satisfied: responses>=0.13.0 in /usr/local/lib/python3.11/dist-packages (from moto<5.0.0->pycaret[full]) (0.25.7)\n",
            "Requirement already satisfied: fastjsonschema>=2.15 in /usr/local/lib/python3.11/dist-packages (from nbformat>=4.2.0->pycaret[full]) (2.21.1)\n",
            "Requirement already satisfied: jsonschema>=2.6 in /usr/local/lib/python3.11/dist-packages (from nbformat>=4.2.0->pycaret[full]) (4.23.0)\n",
            "Requirement already satisfied: jupyter-core!=5.0.*,>=4.12 in /usr/local/lib/python3.11/dist-packages (from nbformat>=4.2.0->pycaret[full]) (5.7.2)\n",
            "Requirement already satisfied: llvmlite<0.44,>=0.43.0dev0 in /usr/local/lib/python3.11/dist-packages (from numba>=0.55.0->pycaret[full]) (0.43.0)\n",
            "Requirement already satisfied: colorlog in /usr/local/lib/python3.11/dist-packages (from optuna>=3.0.0->pycaret[full]) (6.9.0)\n",
            "Requirement already satisfied: pytz>=2020.1 in /usr/local/lib/python3.11/dist-packages (from pandas<2.2.0->pycaret[full]) (2025.2)\n",
            "Requirement already satisfied: tzdata>=2022.1 in /usr/local/lib/python3.11/dist-packages (from pandas<2.2.0->pycaret[full]) (2025.2)\n",
            "Requirement already satisfied: tenacity>=6.2.0 in /usr/local/lib/python3.11/dist-packages (from plotly>=5.14.0->pycaret[full]) (9.1.2)\n",
            "Requirement already satisfied: tsdownsample>=0.1.3 in /usr/local/lib/python3.11/dist-packages (from plotly-resampler>=0.8.3.1->pycaret[full]) (0.1.4.1)\n",
            "Requirement already satisfied: Cython!=0.29.18,!=0.29.31,>=0.29 in /usr/local/lib/python3.11/dist-packages (from pmdarima>=2.0.4->pycaret[full]) (3.0.12)\n",
            "Requirement already satisfied: iniconfig in /usr/local/lib/python3.11/dist-packages (from pytest<8.0.0->pycaret[full]) (2.1.0)\n",
            "Requirement already satisfied: pluggy<2.0,>=0.12 in /usr/local/lib/python3.11/dist-packages (from pytest<8.0.0->pycaret[full]) (1.5.0)\n",
            "Requirement already satisfied: charset-normalizer<4,>=2 in /usr/local/lib/python3.11/dist-packages (from requests>=2.27.1->pycaret[full]) (3.4.1)\n",
            "Requirement already satisfied: idna<4,>=2.5 in /usr/local/lib/python3.11/dist-packages (from requests>=2.27.1->pycaret[full]) (3.10)\n",
            "Requirement already satisfied: daal==2025.5.0 in /usr/local/lib/python3.11/dist-packages (from scikit-learn-intelex>=2023.0.1->pycaret[full]) (2025.5.0)\n",
            "Requirement already satisfied: tbb==2022.* in /usr/local/lib/python3.11/dist-packages (from daal==2025.5.0->scikit-learn-intelex>=2023.0.1->pycaret[full]) (2022.1.0)\n",
            "Requirement already satisfied: tcmlib==1.* in /usr/local/lib/python3.11/dist-packages (from tbb==2022.*->daal==2025.5.0->scikit-learn-intelex>=2023.0.1->pycaret[full]) (1.3.0)\n",
            "Requirement already satisfied: pyaml>=16.9 in /usr/local/lib/python3.11/dist-packages (from scikit-optimize>=0.9.0->pycaret[full]) (25.1.0)\n",
            "Requirement already satisfied: slicer==0.0.7 in /usr/local/lib/python3.11/dist-packages (from shap~=0.44.0->pycaret[full]) (0.0.7)\n",
            "Requirement already satisfied: pynndescent>=0.5 in /usr/local/lib/python3.11/dist-packages (from umap-learn>=0.5.2->pycaret[full]) (0.5.13)\n",
            "Requirement already satisfied: h11>=0.8 in /usr/local/lib/python3.11/dist-packages (from uvicorn>=0.17.6->pycaret[full]) (0.16.0)\n",
            "Requirement already satisfied: nvidia-nccl-cu12 in /usr/local/lib/python3.11/dist-packages (from xgboost>=1.1.0->pycaret[full]) (2.21.5)\n",
            "Requirement already satisfied: visions<0.8.2,>=0.7.5 in /usr/local/lib/python3.11/dist-packages (from visions[type_image_path]<0.8.2,>=0.7.5->ydata-profiling>=4.3.1->pycaret[full]) (0.8.1)\n",
            "Requirement already satisfied: htmlmin==0.1.12 in /usr/local/lib/python3.11/dist-packages (from ydata-profiling>=4.3.1->pycaret[full]) (0.1.12)\n",
            "Requirement already satisfied: phik<0.13,>=0.11.1 in /usr/local/lib/python3.11/dist-packages (from ydata-profiling>=4.3.1->pycaret[full]) (0.12.4)\n",
            "Requirement already satisfied: seaborn<0.14,>=0.10.1 in /usr/local/lib/python3.11/dist-packages (from ydata-profiling>=4.3.1->pycaret[full]) (0.13.2)\n",
            "Requirement already satisfied: multimethod<2,>=1.4 in /usr/local/lib/python3.11/dist-packages (from ydata-profiling>=4.3.1->pycaret[full]) (1.12)\n",
            "Requirement already satisfied: typeguard<5,>=3 in /usr/local/lib/python3.11/dist-packages (from ydata-profiling>=4.3.1->pycaret[full]) (4.4.2)\n",
            "Requirement already satisfied: imagehash==4.3.1 in /usr/local/lib/python3.11/dist-packages (from ydata-profiling>=4.3.1->pycaret[full]) (4.3.1)\n",
            "Requirement already satisfied: wordcloud>=1.9.3 in /usr/local/lib/python3.11/dist-packages (from ydata-profiling>=4.3.1->pycaret[full]) (1.9.4)\n",
            "Requirement already satisfied: dacite>=1.8 in /usr/local/lib/python3.11/dist-packages (from ydata-profiling>=4.3.1->pycaret[full]) (1.9.2)\n",
            "Requirement already satisfied: PyWavelets in /usr/local/lib/python3.11/dist-packages (from imagehash==4.3.1->ydata-profiling>=4.3.1->pycaret[full]) (1.8.0)\n",
            "Requirement already satisfied: retrying in /usr/local/lib/python3.11/dist-packages (from dash[testing]; extra == \"full\"->pycaret[full]) (1.3.4)\n",
            "Requirement already satisfied: nest-asyncio in /usr/local/lib/python3.11/dist-packages (from dash[testing]; extra == \"full\"->pycaret[full]) (1.6.0)\n",
            "Requirement already satisfied: beautifulsoup4>=4.8.2 in /usr/local/lib/python3.11/dist-packages (from dash[testing]; extra == \"full\"->pycaret[full]) (4.13.4)\n",
            "Requirement already satisfied: lxml>=4.6.2 in /usr/local/lib/python3.11/dist-packages (from dash[testing]; extra == \"full\"->pycaret[full]) (5.4.0)\n",
            "Requirement already satisfied: percy>=2.0.2 in /usr/local/lib/python3.11/dist-packages (from dash[testing]; extra == \"full\"->pycaret[full]) (2.0.2)\n",
            "Requirement already satisfied: selenium<=4.2.0,>=3.141.0 in /usr/local/lib/python3.11/dist-packages (from dash[testing]; extra == \"full\"->pycaret[full]) (4.2.0)\n",
            "Requirement already satisfied: multiprocess>=0.70.12 in /usr/local/lib/python3.11/dist-packages (from dash[testing]; extra == \"full\"->pycaret[full]) (0.70.18)\n",
            "Requirement already satisfied: dash-testing-stub>=0.0.2 in /usr/local/lib/python3.11/dist-packages (from dash[testing]; extra == \"full\"->pycaret[full]) (0.0.2)\n",
            "Requirement already satisfied: Mako in /usr/lib/python3/dist-packages (from alembic!=1.10.0,<2->mlflow>=2.0.0->pycaret[full]) (1.1.3)\n",
            "Requirement already satisfied: sniffio>=1.1 in /usr/local/lib/python3.11/dist-packages (from anyio<5.0,>=3.0->gradio>=3.50.2->pycaret[full]) (1.3.1)\n",
            "Requirement already satisfied: soupsieve>1.2 in /usr/local/lib/python3.11/dist-packages (from beautifulsoup4>=4.8.2->dash[testing]; extra == \"full\"->pycaret[full]) (2.7)\n",
            "Requirement already satisfied: cffi>=1.12 in /usr/local/lib/python3.11/dist-packages (from cryptography>=43.0.1->evidently~=0.4.16->pycaret[full]) (1.17.1)\n",
            "Requirement already satisfied: dask-expr<1.2,>=1.1 in /usr/local/lib/python3.11/dist-packages (from dask[dataframe,distributed]>=2023.5.0; extra == \"dask\"->fugue[dask]; extra == \"full\"->pycaret[full]) (1.1.21)\n",
            "Requirement already satisfied: colour in /usr/local/lib/python3.11/dist-packages (from dtreeviz>=2.1->explainerdashboard>=0.3.8->pycaret[full]) (0.1.5)\n",
            "Requirement already satisfied: wtforms in /usr/local/lib/python3.11/dist-packages (from Flask-WTF>=1.1->explainerdashboard>=0.3.8->pycaret[full]) (3.2.1)\n",
            "Requirement already satisfied: antlr4-python3-runtime<4.12 in /usr/local/lib/python3.11/dist-packages (from fugue-sql-antlr>=0.1.6->fugue~=0.8.0->pycaret[full]) (4.11.1)\n",
            "Requirement already satisfied: graphql-core<3.3,>=3.1 in /usr/local/lib/python3.11/dist-packages (from graphene<4->mlflow>=2.0.0->pycaret[full]) (3.2.6)\n",
            "Requirement already satisfied: graphql-relay<3.3,>=3.1 in /usr/local/lib/python3.11/dist-packages (from graphene<4->mlflow>=2.0.0->pycaret[full]) (3.2.0)\n",
            "Requirement already satisfied: httpcore==1.* in /usr/local/lib/python3.11/dist-packages (from httpx>=0.24.1->gradio>=3.50.2->pycaret[full]) (1.0.9)\n",
            "Requirement already satisfied: filelock in /usr/local/lib/python3.11/dist-packages (from huggingface-hub>=0.28.1->gradio>=3.50.2->pycaret[full]) (3.18.0)\n",
            "Requirement already satisfied: debugpy>=1.0 in /usr/local/lib/python3.11/dist-packages (from ipykernel>=4.10.0->interpret-core[aplr,dash,debug,linear,notebook,plotly,sensitivity,shap]==0.6.10->interpret>=0.2.7->pycaret[full]) (1.8.0)\n",
            "Requirement already satisfied: jupyter-client>=6.1.12 in /usr/local/lib/python3.11/dist-packages (from ipykernel>=4.10.0->interpret-core[aplr,dash,debug,linear,notebook,plotly,sensitivity,shap]==0.6.10->interpret>=0.2.7->pycaret[full]) (6.1.12)\n",
            "Requirement already satisfied: pyzmq>=17 in /usr/local/lib/python3.11/dist-packages (from ipykernel>=4.10.0->interpret-core[aplr,dash,debug,linear,notebook,plotly,sensitivity,shap]==0.6.10->interpret>=0.2.7->pycaret[full]) (24.0.1)\n",
            "Requirement already satisfied: appdirs in /usr/local/lib/python3.11/dist-packages (from iterative-telemetry>=0.0.5->evidently~=0.4.16->pycaret[full]) (1.4.4)\n",
            "Requirement already satisfied: distro in /usr/local/lib/python3.11/dist-packages (from iterative-telemetry>=0.0.5->evidently~=0.4.16->pycaret[full]) (1.9.0)\n",
            "Requirement already satisfied: parso<0.9.0,>=0.8.4 in /usr/local/lib/python3.11/dist-packages (from jedi>=0.16->ipython>=5.5.0->pycaret[full]) (0.8.4)\n",
            "Requirement already satisfied: attrs>=22.2.0 in /usr/local/lib/python3.11/dist-packages (from jsonschema>=2.6->nbformat>=4.2.0->pycaret[full]) (25.3.0)\n",
            "Requirement already satisfied: jsonschema-specifications>=2023.03.6 in /usr/local/lib/python3.11/dist-packages (from jsonschema>=2.6->nbformat>=4.2.0->pycaret[full]) (2025.4.1)\n",
            "Requirement already satisfied: referencing>=0.28.4 in /usr/local/lib/python3.11/dist-packages (from jsonschema>=2.6->nbformat>=4.2.0->pycaret[full]) (0.36.2)\n",
            "Requirement already satisfied: rpds-py>=0.7.1 in /usr/local/lib/python3.11/dist-packages (from jsonschema>=2.6->nbformat>=4.2.0->pycaret[full]) (0.24.0)\n",
            "Requirement already satisfied: platformdirs>=2.5 in /usr/local/lib/python3.11/dist-packages (from jupyter-core!=5.0.*,>=4.12->nbformat>=4.2.0->pycaret[full]) (4.3.7)\n",
            "Requirement already satisfied: ansi2html in /usr/local/lib/python3.11/dist-packages (from jupyter_dash>=0.4.1->explainerdashboard>=0.3.8->pycaret[full]) (1.9.2)\n",
            "Requirement already satisfied: litestar-htmx>=0.4.0 in /usr/local/lib/python3.11/dist-packages (from litestar>=2.8.3->evidently~=0.4.16->pycaret[full]) (0.4.1)\n",
            "Requirement already satisfied: msgspec>=0.18.2 in /usr/local/lib/python3.11/dist-packages (from litestar>=2.8.3->evidently~=0.4.16->pycaret[full]) (0.19.0)\n",
            "Requirement already satisfied: multidict>=6.0.2 in /usr/local/lib/python3.11/dist-packages (from litestar>=2.8.3->evidently~=0.4.16->pycaret[full]) (6.4.3)\n",
            "Requirement already satisfied: multipart>=1.2.0 in /usr/local/lib/python3.11/dist-packages (from litestar>=2.8.3->evidently~=0.4.16->pycaret[full]) (1.2.1)\n",
            "Requirement already satisfied: polyfactory>=2.6.3 in /usr/local/lib/python3.11/dist-packages (from litestar>=2.8.3->evidently~=0.4.16->pycaret[full]) (2.21.0)\n",
            "Requirement already satisfied: rich-click in /usr/local/lib/python3.11/dist-packages (from litestar>=2.8.3->evidently~=0.4.16->pycaret[full]) (1.8.8)\n",
            "Requirement already satisfied: regex>=2021.8.3 in /usr/local/lib/python3.11/dist-packages (from nltk>=3.6.7->evidently~=0.4.16->pycaret[full]) (2024.11.6)\n",
            "Requirement already satisfied: ptyprocess>=0.5 in /usr/local/lib/python3.11/dist-packages (from pexpect>4.3->ipython>=5.5.0->pycaret[full]) (0.7.0)\n",
            "Requirement already satisfied: wcwidth in /usr/local/lib/python3.11/dist-packages (from prompt-toolkit!=3.0.0,!=3.0.1,<3.1.0,>=2.0.0->ipython>=5.5.0->pycaret[full]) (0.2.13)\n",
            "Requirement already satisfied: annotated-types>=0.6.0 in /usr/local/lib/python3.11/dist-packages (from pydantic>=1.10.13->evidently~=0.4.16->pycaret[full]) (0.7.0)\n",
            "Requirement already satisfied: pydantic-core==2.33.1 in /usr/local/lib/python3.11/dist-packages (from pydantic>=1.10.13->evidently~=0.4.16->pycaret[full]) (2.33.1)\n",
            "Requirement already satisfied: typing-inspection>=0.4.0 in /usr/local/lib/python3.11/dist-packages (from pydantic>=1.10.13->evidently~=0.4.16->pycaret[full]) (0.4.0)\n",
            "Requirement already satisfied: markdown-it-py>=2.2.0 in /usr/local/lib/python3.11/dist-packages (from rich>=13->evidently~=0.4.16->pycaret[full]) (3.0.0)\n",
            "Requirement already satisfied: trio~=0.17 in /usr/local/lib/python3.11/dist-packages (from selenium<=4.2.0,>=3.141.0->dash[testing]; extra == \"full\"->pycaret[full]) (0.30.0)\n",
            "Requirement already satisfied: trio-websocket~=0.9 in /usr/local/lib/python3.11/dist-packages (from selenium<=4.2.0,>=3.141.0->dash[testing]; extra == \"full\"->pycaret[full]) (0.12.2)\n",
            "Requirement already satisfied: greenlet>=1 in /usr/local/lib/python3.11/dist-packages (from sqlalchemy<3,>=1.4.0->mlflow>=2.0.0->pycaret[full]) (3.2.1)\n",
            "Requirement already satisfied: fs in /usr/local/lib/python3.11/dist-packages (from triad>=0.9.3->fugue~=0.8.0->pycaret[full]) (2.4.16)\n",
            "Requirement already satisfied: shellingham>=1.3.0 in /usr/local/lib/python3.11/dist-packages (from typer>=0.3->evidently~=0.4.16->pycaret[full]) (1.5.4)\n",
            "Requirement already satisfied: mypy-extensions>=0.3.0 in /usr/local/lib/python3.11/dist-packages (from typing-inspect>=0.9.0->evidently~=0.4.16->pycaret[full]) (1.1.0)\n",
            "Requirement already satisfied: httptools>=0.6.3 in /usr/local/lib/python3.11/dist-packages (from uvicorn[standard]>=0.22.0->evidently~=0.4.16->pycaret[full]) (0.6.4)\n",
            "Requirement already satisfied: python-dotenv>=0.13 in /usr/local/lib/python3.11/dist-packages (from uvicorn[standard]>=0.22.0->evidently~=0.4.16->pycaret[full]) (1.1.0)\n",
            "Requirement already satisfied: uvloop!=0.15.0,!=0.15.1,>=0.14.0 in /usr/local/lib/python3.11/dist-packages (from uvicorn[standard]>=0.22.0->evidently~=0.4.16->pycaret[full]) (0.21.0)\n",
            "Requirement already satisfied: watchfiles>=0.13 in /usr/local/lib/python3.11/dist-packages (from uvicorn[standard]>=0.22.0->evidently~=0.4.16->pycaret[full]) (1.0.5)\n",
            "Requirement already satisfied: puremagic in /usr/local/lib/python3.11/dist-packages (from visions<0.8.2,>=0.7.5->visions[type_image_path]<0.8.2,>=0.7.5->ydata-profiling>=4.3.1->pycaret[full]) (1.28)\n",
            "Requirement already satisfied: notebook>=4.4.1 in /usr/local/lib/python3.11/dist-packages (from widgetsnbextension~=3.6.0->ipywidgets>=7.6.5->pycaret[full]) (6.5.7)\n",
            "Requirement already satisfied: pycparser in /usr/local/lib/python3.11/dist-packages (from cffi>=1.12->cryptography>=43.0.1->evidently~=0.4.16->pycaret[full]) (2.22)\n",
            "Requirement already satisfied: google-auth~=2.0 in /usr/local/lib/python3.11/dist-packages (from databricks-sdk<1,>=0.20.0->mlflow-skinny==2.22.0->mlflow>=2.0.0->pycaret[full]) (2.38.0)\n",
            "Requirement already satisfied: zope.event in /usr/local/lib/python3.11/dist-packages (from gevent>=1.3.6->interpret-core[aplr,dash,debug,linear,notebook,plotly,sensitivity,shap]==0.6.10->interpret>=0.2.7->pycaret[full]) (5.0)\n",
            "Requirement already satisfied: zope.interface in /usr/local/lib/python3.11/dist-packages (from gevent>=1.3.6->interpret-core[aplr,dash,debug,linear,notebook,plotly,sensitivity,shap]==0.6.10->interpret>=0.2.7->pycaret[full]) (7.2)\n",
            "Requirement already satisfied: gitdb<5,>=4.0.1 in /usr/local/lib/python3.11/dist-packages (from gitpython<4,>=3.1.9->mlflow-skinny==2.22.0->mlflow>=2.0.0->pycaret[full]) (4.0.12)\n",
            "Requirement already satisfied: mdurl~=0.1 in /usr/local/lib/python3.11/dist-packages (from markdown-it-py>=2.2.0->rich>=13->evidently~=0.4.16->pycaret[full]) (0.1.2)\n",
            "Requirement already satisfied: argon2-cffi in /usr/local/lib/python3.11/dist-packages (from notebook>=4.4.1->widgetsnbextension~=3.6.0->ipywidgets>=7.6.5->pycaret[full]) (23.1.0)\n",
            "Requirement already satisfied: nbconvert>=5 in /usr/local/lib/python3.11/dist-packages (from notebook>=4.4.1->widgetsnbextension~=3.6.0->ipywidgets>=7.6.5->pycaret[full]) (7.16.6)\n",
            "Requirement already satisfied: Send2Trash>=1.8.0 in /usr/local/lib/python3.11/dist-packages (from notebook>=4.4.1->widgetsnbextension~=3.6.0->ipywidgets>=7.6.5->pycaret[full]) (1.8.3)\n",
            "Requirement already satisfied: terminado>=0.8.3 in /usr/local/lib/python3.11/dist-packages (from notebook>=4.4.1->widgetsnbextension~=3.6.0->ipywidgets>=7.6.5->pycaret[full]) (0.18.1)\n",
            "Requirement already satisfied: prometheus-client in /usr/local/lib/python3.11/dist-packages (from notebook>=4.4.1->widgetsnbextension~=3.6.0->ipywidgets>=7.6.5->pycaret[full]) (0.21.1)\n",
            "Requirement already satisfied: nbclassic>=0.4.7 in /usr/local/lib/python3.11/dist-packages (from notebook>=4.4.1->widgetsnbextension~=3.6.0->ipywidgets>=7.6.5->pycaret[full]) (1.3.0)\n",
            "Requirement already satisfied: deprecated>=1.2.6 in /usr/local/lib/python3.11/dist-packages (from opentelemetry-api<3,>=1.9.0->mlflow-skinny==2.22.0->mlflow>=2.0.0->pycaret[full]) (1.2.18)\n",
            "Requirement already satisfied: opentelemetry-semantic-conventions==0.53b1 in /usr/local/lib/python3.11/dist-packages (from opentelemetry-sdk<3,>=1.9.0->mlflow-skinny==2.22.0->mlflow>=2.0.0->pycaret[full]) (0.53b1)\n",
            "Requirement already satisfied: faker>=5.0.0 in /usr/local/lib/python3.11/dist-packages (from polyfactory>=2.6.3->litestar>=2.8.3->evidently~=0.4.16->pycaret[full]) (37.1.0)\n",
            "Requirement already satisfied: outcome in /usr/local/lib/python3.11/dist-packages (from trio~=0.17->selenium<=4.2.0,>=3.141.0->dash[testing]; extra == \"full\"->pycaret[full]) (1.3.0.post0)\n",
            "Requirement already satisfied: wsproto>=0.14 in /usr/local/lib/python3.11/dist-packages (from trio-websocket~=0.9->selenium<=4.2.0,>=3.141.0->dash[testing]; extra == \"full\"->pycaret[full]) (1.2.0)\n",
            "Requirement already satisfied: pyOpenSSL>=0.14 in /usr/local/lib/python3.11/dist-packages (from urllib3[secure,socks]~=1.26->selenium<=4.2.0,>=3.141.0->dash[testing]; extra == \"full\"->pycaret[full]) (24.2.1)\n",
            "Requirement already satisfied: urllib3-secure-extra in /usr/local/lib/python3.11/dist-packages (from urllib3[secure,socks]~=1.26->selenium<=4.2.0,>=3.141.0->dash[testing]; extra == \"full\"->pycaret[full]) (0.1.0)\n",
            "Requirement already satisfied: PySocks!=1.5.7,<2.0,>=1.5.6 in /usr/local/lib/python3.11/dist-packages (from urllib3[secure,socks]~=1.26->selenium<=4.2.0,>=3.141.0->dash[testing]; extra == \"full\"->pycaret[full]) (1.7.1)\n",
            "Requirement already satisfied: wrapt<2,>=1.10 in /usr/local/lib/python3.11/dist-packages (from deprecated>=1.2.6->opentelemetry-api<3,>=1.9.0->mlflow-skinny==2.22.0->mlflow>=2.0.0->pycaret[full]) (1.17.2)\n",
            "Requirement already satisfied: smmap<6,>=3.0.1 in /usr/local/lib/python3.11/dist-packages (from gitdb<5,>=4.0.1->gitpython<4,>=3.1.9->mlflow-skinny==2.22.0->mlflow>=2.0.0->pycaret[full]) (5.0.2)\n",
            "Requirement already satisfied: pyasn1-modules>=0.2.1 in /usr/local/lib/python3.11/dist-packages (from google-auth~=2.0->databricks-sdk<1,>=0.20.0->mlflow-skinny==2.22.0->mlflow>=2.0.0->pycaret[full]) (0.4.2)\n",
            "Requirement already satisfied: rsa<5,>=3.1.4 in /usr/local/lib/python3.11/dist-packages (from google-auth~=2.0->databricks-sdk<1,>=0.20.0->mlflow-skinny==2.22.0->mlflow>=2.0.0->pycaret[full]) (4.9.1)\n",
            "Requirement already satisfied: notebook-shim>=0.2.3 in /usr/local/lib/python3.11/dist-packages (from nbclassic>=0.4.7->notebook>=4.4.1->widgetsnbextension~=3.6.0->ipywidgets>=7.6.5->pycaret[full]) (0.2.4)\n",
            "Requirement already satisfied: bleach!=5.0.0 in /usr/local/lib/python3.11/dist-packages (from bleach[css]!=5.0.0->nbconvert>=5->notebook>=4.4.1->widgetsnbextension~=3.6.0->ipywidgets>=7.6.5->pycaret[full]) (6.2.0)\n",
            "Requirement already satisfied: defusedxml in /usr/local/lib/python3.11/dist-packages (from nbconvert>=5->notebook>=4.4.1->widgetsnbextension~=3.6.0->ipywidgets>=7.6.5->pycaret[full]) (0.7.1)\n",
            "Requirement already satisfied: jupyterlab-pygments in /usr/local/lib/python3.11/dist-packages (from nbconvert>=5->notebook>=4.4.1->widgetsnbextension~=3.6.0->ipywidgets>=7.6.5->pycaret[full]) (0.3.0)\n",
            "Requirement already satisfied: mistune<4,>=2.0.3 in /usr/local/lib/python3.11/dist-packages (from nbconvert>=5->notebook>=4.4.1->widgetsnbextension~=3.6.0->ipywidgets>=7.6.5->pycaret[full]) (3.1.3)\n",
            "Requirement already satisfied: nbclient>=0.5.0 in /usr/local/lib/python3.11/dist-packages (from nbconvert>=5->notebook>=4.4.1->widgetsnbextension~=3.6.0->ipywidgets>=7.6.5->pycaret[full]) (0.10.2)\n",
            "Requirement already satisfied: pandocfilters>=1.4.1 in /usr/local/lib/python3.11/dist-packages (from nbconvert>=5->notebook>=4.4.1->widgetsnbextension~=3.6.0->ipywidgets>=7.6.5->pycaret[full]) (1.5.1)\n",
            "Requirement already satisfied: argon2-cffi-bindings in /usr/local/lib/python3.11/dist-packages (from argon2-cffi->notebook>=4.4.1->widgetsnbextension~=3.6.0->ipywidgets>=7.6.5->pycaret[full]) (21.2.0)\n",
            "Requirement already satisfied: webencodings in /usr/local/lib/python3.11/dist-packages (from bleach!=5.0.0->bleach[css]!=5.0.0->nbconvert>=5->notebook>=4.4.1->widgetsnbextension~=3.6.0->ipywidgets>=7.6.5->pycaret[full]) (0.5.1)\n",
            "Requirement already satisfied: tinycss2<1.5,>=1.1.0 in /usr/local/lib/python3.11/dist-packages (from bleach[css]!=5.0.0->nbconvert>=5->notebook>=4.4.1->widgetsnbextension~=3.6.0->ipywidgets>=7.6.5->pycaret[full]) (1.4.0)\n",
            "Requirement already satisfied: jupyter-server<3,>=1.8 in /usr/local/lib/python3.11/dist-packages (from notebook-shim>=0.2.3->nbclassic>=0.4.7->notebook>=4.4.1->widgetsnbextension~=3.6.0->ipywidgets>=7.6.5->pycaret[full]) (1.16.0)\n",
            "Requirement already satisfied: pyasn1<0.7.0,>=0.6.1 in /usr/local/lib/python3.11/dist-packages (from pyasn1-modules>=0.2.1->google-auth~=2.0->databricks-sdk<1,>=0.20.0->mlflow-skinny==2.22.0->mlflow>=2.0.0->pycaret[full]) (0.6.1)\n",
            "Requirement already satisfied: websocket-client in /usr/local/lib/python3.11/dist-packages (from jupyter-server<3,>=1.8->notebook-shim>=0.2.3->nbclassic>=0.4.7->notebook>=4.4.1->widgetsnbextension~=3.6.0->ipywidgets>=7.6.5->pycaret[full]) (1.8.0)\n"
          ]
        }
      ]
    },
    {
      "cell_type": "code",
      "source": [
        "# Read dataset\n",
        "import pandas as pd\n",
        "\n",
        "stats_df = pd.read_csv('stats_players.csv')"
      ],
      "metadata": {
        "id": "NvAG8rVBaozC"
      },
      "execution_count": 26,
      "outputs": []
    },
    {
      "cell_type": "markdown",
      "metadata": {
        "id": "JdcucZhp-M_0"
      },
      "source": [
        "## 1. Predicción de Seleccionados Nacionales [14 puntos]"
      ]
    },
    {
      "cell_type": "markdown",
      "metadata": {
        "id": "HXrewqxjjzvA"
      },
      "source": [
        "<p align=\"center\">\n",
        "  <img src=\"https://www.futuro.cl/wp-content/uploads/2016/06/chile-argentina-meme-12.jpg\" width=\"300\">\n",
        "</p>\n",
        "\n"
      ]
    },
    {
      "cell_type": "markdown",
      "metadata": {
        "id": "Qfre1YsSDqla"
      },
      "source": [
        "### 1.1 Preprocesamiento [5 puntos]"
      ]
    },
    {
      "cell_type": "markdown",
      "metadata": {
        "id": "IR00u4HTDtxv"
      },
      "source": [
        "Tareas:\n",
        "\n",
        "1. Genere los labels para la clasificación binaria en una variable llamada `label`. Para esto, trabaje sobre el atributo `National_Position` suponiendo que los valores nulos son jugadores no seleccionados para representar a su país. [Sin puntaje]\n",
        "\n",
        "2. Hecho esto, ¿cuántos se tienen ejemplos por cada clase? Comente lo que observa. [1 punto]\n",
        "\n",
        "3. Genere un `ColumnTransformer` en donde especifique las transformaciones que hay que realizar para cada columna (por ejemplo StandarScaler, MinMaxScaler, OneHotEncoder, etc...) para que puedan ser utilizadas correctamente por el modelo predictivo y guárdelo una variable llamada `col_transformer`. [2 puntos]\n",
        "\n",
        "4. Comente y justifique las transformaciones elegidas sobre cada una de las variables (para esto utilice el material `Player_Stats_Report.html` que viene en el zip del lab), al igual que las transformaciones aplicadas. [2 puntos]"
      ]
    },
    {
      "cell_type": "markdown",
      "metadata": {
        "id": "tgAk0kbPjEsx"
      },
      "source": [
        "**Respuesta:**"
      ]
    },
    {
      "cell_type": "code",
      "execution_count": 27,
      "metadata": {
        "id": "JhC2sZj9dSI1",
        "colab": {
          "base_uri": "https://localhost:8080/",
          "height": 178
        },
        "outputId": "8341aff3-372d-457a-ee94-f11953568ce7"
      },
      "outputs": [
        {
          "output_type": "execute_result",
          "data": {
            "text/plain": [
              "label\n",
              "0    16513\n",
              "1     1075\n",
              "Name: count, dtype: int64"
            ],
            "text/html": [
              "<div>\n",
              "<style scoped>\n",
              "    .dataframe tbody tr th:only-of-type {\n",
              "        vertical-align: middle;\n",
              "    }\n",
              "\n",
              "    .dataframe tbody tr th {\n",
              "        vertical-align: top;\n",
              "    }\n",
              "\n",
              "    .dataframe thead th {\n",
              "        text-align: right;\n",
              "    }\n",
              "</style>\n",
              "<table border=\"1\" class=\"dataframe\">\n",
              "  <thead>\n",
              "    <tr style=\"text-align: right;\">\n",
              "      <th></th>\n",
              "      <th>count</th>\n",
              "    </tr>\n",
              "    <tr>\n",
              "      <th>label</th>\n",
              "      <th></th>\n",
              "    </tr>\n",
              "  </thead>\n",
              "  <tbody>\n",
              "    <tr>\n",
              "      <th>0</th>\n",
              "      <td>16513</td>\n",
              "    </tr>\n",
              "    <tr>\n",
              "      <th>1</th>\n",
              "      <td>1075</td>\n",
              "    </tr>\n",
              "  </tbody>\n",
              "</table>\n",
              "</div><br><label><b>dtype:</b> int64</label>"
            ]
          },
          "metadata": {},
          "execution_count": 27
        }
      ],
      "source": [
        "# 1. Generación de labels\n",
        "stats_df['label'] = stats_df['National_Position'].apply(lambda x: 0 if pd.isna(x) else 1)\n",
        "\n",
        "# 2. Conteo por clase\n",
        "stats_df['label'].value_counts()"
      ]
    },
    {
      "cell_type": "markdown",
      "source": [
        "2. Se observa que las clases están fuertemente desbalanceadas. La clase negativa (0) es más de 15 veces mayor que la clase positiva 1. Esto puede generar que el modelo se sesgue a predecir la clase negativa."
      ],
      "metadata": {
        "id": "6Be5aLicbT1w"
      }
    },
    {
      "cell_type": "code",
      "source": [
        "# 3. Column transformer\n",
        "from sklearn.compose import ColumnTransformer\n",
        "from sklearn.preprocessing import MinMaxScaler, StandardScaler, OneHotEncoder\n",
        "\n",
        "numeric_columns = [c for c in stats_df.select_dtypes(include='number') if c not in ['label', 'Weak_foot', 'Skill_Moves']]\n",
        "categorical_columns = ['Nationality', 'Club_Position', 'Preffered_Foot', 'Work_Rate', 'Weak_foot', 'Skill_Moves']\n",
        "normal_columns = ['Height', 'Weight', 'Age', 'Reactions', 'Volleys']\n",
        "\n",
        "\n",
        "col_transformer = ColumnTransformer([\n",
        "    ('Standard', StandardScaler(), normal_columns),\n",
        "    ('MinMax', MinMaxScaler(), [c for c in numeric_columns if c not in normal_columns]),\n",
        "    ('OneHot', OneHotEncoder(sparse_output=False, handle_unknown='infrequent_if_exist'), categorical_columns),\n",
        "])"
      ],
      "metadata": {
        "id": "tL7oEX14bTCc"
      },
      "execution_count": null,
      "outputs": []
    },
    {
      "cell_type": "markdown",
      "source": [
        "4. En base a lo observado en `Player_Stats_Report.html`, las transformaciones elegidas fueron:\n",
        "- `StandardScaler`, usado para escalar aquellos datos que tenían una distribución visualmente cercana a una normal. El escalado es necesario pues los datos se encuentran en distintas magnitudes, y algunos modelos pueden verse afectados por esto.\n",
        "- `MinMaxScaler`, para datos que no se encuentran con una distribución normal.\n",
        "- `OneHotEncoder`, para vectorizar variables categóricas y poder trabajar con ellas en un espacio matemático.\n",
        "\n",
        "No fue necesario emplear un imputer, pues los datos no contienen nulos. Respecto a las variables numéricas, no se observó presencia de outliers en los gráficos de distribuciones, luego no se utilizó un `RobustScaler`."
      ],
      "metadata": {
        "id": "erqN-bKTthHd"
      }
    },
    {
      "cell_type": "markdown",
      "metadata": {
        "id": "Bv1HOfcNEPF4"
      },
      "source": [
        "### 1.2 Entrenamiento [3 puntos]"
      ]
    },
    {
      "cell_type": "markdown",
      "metadata": {
        "id": "whPkuXTUBvB0"
      },
      "source": [
        "Ahora, vamos a entrenar los pipelines generados en los pasos anteriores. Para esto, debe realizar las siguientes tareas:\n",
        "\n",
        "1. Separe los datos de entrenamiento en un conjunto de entrenamiento y de prueba  (la proporción queda a su juicio). En este paso, seleccione los ejemplos de forma aleatoria e intente mantener la distribución original de labels de cada clase en los conjuntos de prueba/entrenamiento. (vea la documentación de `train_test_split`). [1 puntos]\n",
        "\n",
        "\n",
        "2. Defina un pipeline llamado `pipeline_xgboost` y otro llamado `pipeline_lightgbm`. Estos pipelines deben tener el mismo ColumnTransformer definido en la sección de preprocesamiento, pero deben variar los clasificadores de acuerdo al nombre de cada pipeline. [1 puntos]\n",
        "\n",
        "3. Entrene los pipelines. [1 punto]\n",
        "\n"
      ]
    },
    {
      "cell_type": "markdown",
      "metadata": {
        "id": "kbadONFtjGnE"
      },
      "source": [
        "**Respuesta:**"
      ]
    },
    {
      "cell_type": "code",
      "execution_count": null,
      "metadata": {
        "id": "lLtlXGTPdWAV"
      },
      "outputs": [],
      "source": [
        "# 1. Definición de conjuntos de entrenamiento y prueba\n",
        "from sklearn.model_selection import train_test_split\n",
        "\n",
        "X = stats_df.drop(columns=['label'])\n",
        "y = stats_df['label']\n",
        "\n",
        "X_train, X_test, y_train, y_test = train_test_split(X, y, stratify=y, random_state=99)"
      ]
    },
    {
      "cell_type": "code",
      "source": [
        "# 2-3. Definición de pipelines y entrenamiento\n",
        "from xgboost import XGBClassifier\n",
        "from lightgbm import LGBMClassifier\n",
        "from sklearn.pipeline import Pipeline\n",
        "\n",
        "pipeline_xgboost = Pipeline([('ct', col_transformer), ('xgboost', XGBClassifier())])\n",
        "pipeline_lightgbm = Pipeline([('ct', col_transformer), ('lightgbm', LGBMClassifier(verbose=-1))])\n",
        "\n",
        "pipeline_xgboost.fit(X_train, y_train)\n",
        "pipeline_lightgbm.fit(X_train, y_train)"
      ],
      "metadata": {
        "colab": {
          "base_uri": "https://localhost:8080/",
          "height": 221
        },
        "id": "-AwQfrz3uDTD",
        "outputId": "3428e612-7a24-482a-b699-60002bd10f9b"
      },
      "execution_count": null,
      "outputs": [
        {
          "output_type": "execute_result",
          "data": {
            "text/plain": [
              "Pipeline(memory=None,\n",
              "         steps=[('ct',\n",
              "                 ColumnTransformer(n_jobs=None, remainder='drop',\n",
              "                                   sparse_threshold=0.3,\n",
              "                                   transformer_weights=None,\n",
              "                                   transformers=[('Standard',\n",
              "                                                  StandardScaler(copy=True,\n",
              "                                                                 with_mean=True,\n",
              "                                                                 with_std=True),\n",
              "                                                  ['Height', 'Weight', 'Age',\n",
              "                                                   'Reactions', 'Volleys']),\n",
              "                                                 ('MinMax',\n",
              "                                                  MinMaxScaler(clip=False,\n",
              "                                                               copy=True,\n",
              "                                                               feature_range=(0,\n",
              "                                                                              1)),\n",
              "                                                  ['Ball_Control', 'Dribbling',...\n",
              "                 LGBMClassifier(boosting_type='gbdt', class_weight=None,\n",
              "                                colsample_bytree=1.0, importance_type='split',\n",
              "                                learning_rate=0.1, max_depth=-1,\n",
              "                                min_child_samples=20, min_child_weight=0.001,\n",
              "                                min_split_gain=0.0, n_estimators=100,\n",
              "                                n_jobs=None, num_leaves=31, objective=None,\n",
              "                                random_state=None, reg_alpha=0.0,\n",
              "                                reg_lambda=0.0, subsample=1.0,\n",
              "                                subsample_for_bin=200000, subsample_freq=0,\n",
              "                                verbose=-1))],\n",
              "         verbose=False)"
            ],
            "text/html": [
              "<style>#sk-container-id-1 {\n",
              "  /* Definition of color scheme common for light and dark mode */\n",
              "  --sklearn-color-text: black;\n",
              "  --sklearn-color-line: gray;\n",
              "  /* Definition of color scheme for unfitted estimators */\n",
              "  --sklearn-color-unfitted-level-0: #fff5e6;\n",
              "  --sklearn-color-unfitted-level-1: #f6e4d2;\n",
              "  --sklearn-color-unfitted-level-2: #ffe0b3;\n",
              "  --sklearn-color-unfitted-level-3: chocolate;\n",
              "  /* Definition of color scheme for fitted estimators */\n",
              "  --sklearn-color-fitted-level-0: #f0f8ff;\n",
              "  --sklearn-color-fitted-level-1: #d4ebff;\n",
              "  --sklearn-color-fitted-level-2: #b3dbfd;\n",
              "  --sklearn-color-fitted-level-3: cornflowerblue;\n",
              "\n",
              "  /* Specific color for light theme */\n",
              "  --sklearn-color-text-on-default-background: var(--sg-text-color, var(--theme-code-foreground, var(--jp-content-font-color1, black)));\n",
              "  --sklearn-color-background: var(--sg-background-color, var(--theme-background, var(--jp-layout-color0, white)));\n",
              "  --sklearn-color-border-box: var(--sg-text-color, var(--theme-code-foreground, var(--jp-content-font-color1, black)));\n",
              "  --sklearn-color-icon: #696969;\n",
              "\n",
              "  @media (prefers-color-scheme: dark) {\n",
              "    /* Redefinition of color scheme for dark theme */\n",
              "    --sklearn-color-text-on-default-background: var(--sg-text-color, var(--theme-code-foreground, var(--jp-content-font-color1, white)));\n",
              "    --sklearn-color-background: var(--sg-background-color, var(--theme-background, var(--jp-layout-color0, #111)));\n",
              "    --sklearn-color-border-box: var(--sg-text-color, var(--theme-code-foreground, var(--jp-content-font-color1, white)));\n",
              "    --sklearn-color-icon: #878787;\n",
              "  }\n",
              "}\n",
              "\n",
              "#sk-container-id-1 {\n",
              "  color: var(--sklearn-color-text);\n",
              "}\n",
              "\n",
              "#sk-container-id-1 pre {\n",
              "  padding: 0;\n",
              "}\n",
              "\n",
              "#sk-container-id-1 input.sk-hidden--visually {\n",
              "  border: 0;\n",
              "  clip: rect(1px 1px 1px 1px);\n",
              "  clip: rect(1px, 1px, 1px, 1px);\n",
              "  height: 1px;\n",
              "  margin: -1px;\n",
              "  overflow: hidden;\n",
              "  padding: 0;\n",
              "  position: absolute;\n",
              "  width: 1px;\n",
              "}\n",
              "\n",
              "#sk-container-id-1 div.sk-dashed-wrapped {\n",
              "  border: 1px dashed var(--sklearn-color-line);\n",
              "  margin: 0 0.4em 0.5em 0.4em;\n",
              "  box-sizing: border-box;\n",
              "  padding-bottom: 0.4em;\n",
              "  background-color: var(--sklearn-color-background);\n",
              "}\n",
              "\n",
              "#sk-container-id-1 div.sk-container {\n",
              "  /* jupyter's `normalize.less` sets `[hidden] { display: none; }`\n",
              "     but bootstrap.min.css set `[hidden] { display: none !important; }`\n",
              "     so we also need the `!important` here to be able to override the\n",
              "     default hidden behavior on the sphinx rendered scikit-learn.org.\n",
              "     See: https://github.com/scikit-learn/scikit-learn/issues/21755 */\n",
              "  display: inline-block !important;\n",
              "  position: relative;\n",
              "}\n",
              "\n",
              "#sk-container-id-1 div.sk-text-repr-fallback {\n",
              "  display: none;\n",
              "}\n",
              "\n",
              "div.sk-parallel-item,\n",
              "div.sk-serial,\n",
              "div.sk-item {\n",
              "  /* draw centered vertical line to link estimators */\n",
              "  background-image: linear-gradient(var(--sklearn-color-text-on-default-background), var(--sklearn-color-text-on-default-background));\n",
              "  background-size: 2px 100%;\n",
              "  background-repeat: no-repeat;\n",
              "  background-position: center center;\n",
              "}\n",
              "\n",
              "/* Parallel-specific style estimator block */\n",
              "\n",
              "#sk-container-id-1 div.sk-parallel-item::after {\n",
              "  content: \"\";\n",
              "  width: 100%;\n",
              "  border-bottom: 2px solid var(--sklearn-color-text-on-default-background);\n",
              "  flex-grow: 1;\n",
              "}\n",
              "\n",
              "#sk-container-id-1 div.sk-parallel {\n",
              "  display: flex;\n",
              "  align-items: stretch;\n",
              "  justify-content: center;\n",
              "  background-color: var(--sklearn-color-background);\n",
              "  position: relative;\n",
              "}\n",
              "\n",
              "#sk-container-id-1 div.sk-parallel-item {\n",
              "  display: flex;\n",
              "  flex-direction: column;\n",
              "}\n",
              "\n",
              "#sk-container-id-1 div.sk-parallel-item:first-child::after {\n",
              "  align-self: flex-end;\n",
              "  width: 50%;\n",
              "}\n",
              "\n",
              "#sk-container-id-1 div.sk-parallel-item:last-child::after {\n",
              "  align-self: flex-start;\n",
              "  width: 50%;\n",
              "}\n",
              "\n",
              "#sk-container-id-1 div.sk-parallel-item:only-child::after {\n",
              "  width: 0;\n",
              "}\n",
              "\n",
              "/* Serial-specific style estimator block */\n",
              "\n",
              "#sk-container-id-1 div.sk-serial {\n",
              "  display: flex;\n",
              "  flex-direction: column;\n",
              "  align-items: center;\n",
              "  background-color: var(--sklearn-color-background);\n",
              "  padding-right: 1em;\n",
              "  padding-left: 1em;\n",
              "}\n",
              "\n",
              "\n",
              "/* Toggleable style: style used for estimator/Pipeline/ColumnTransformer box that is\n",
              "clickable and can be expanded/collapsed.\n",
              "- Pipeline and ColumnTransformer use this feature and define the default style\n",
              "- Estimators will overwrite some part of the style using the `sk-estimator` class\n",
              "*/\n",
              "\n",
              "/* Pipeline and ColumnTransformer style (default) */\n",
              "\n",
              "#sk-container-id-1 div.sk-toggleable {\n",
              "  /* Default theme specific background. It is overwritten whether we have a\n",
              "  specific estimator or a Pipeline/ColumnTransformer */\n",
              "  background-color: var(--sklearn-color-background);\n",
              "}\n",
              "\n",
              "/* Toggleable label */\n",
              "#sk-container-id-1 label.sk-toggleable__label {\n",
              "  cursor: pointer;\n",
              "  display: block;\n",
              "  width: 100%;\n",
              "  margin-bottom: 0;\n",
              "  padding: 0.5em;\n",
              "  box-sizing: border-box;\n",
              "  text-align: center;\n",
              "}\n",
              "\n",
              "#sk-container-id-1 label.sk-toggleable__label-arrow:before {\n",
              "  /* Arrow on the left of the label */\n",
              "  content: \"▸\";\n",
              "  float: left;\n",
              "  margin-right: 0.25em;\n",
              "  color: var(--sklearn-color-icon);\n",
              "}\n",
              "\n",
              "#sk-container-id-1 label.sk-toggleable__label-arrow:hover:before {\n",
              "  color: var(--sklearn-color-text);\n",
              "}\n",
              "\n",
              "/* Toggleable content - dropdown */\n",
              "\n",
              "#sk-container-id-1 div.sk-toggleable__content {\n",
              "  max-height: 0;\n",
              "  max-width: 0;\n",
              "  overflow: hidden;\n",
              "  text-align: left;\n",
              "  /* unfitted */\n",
              "  background-color: var(--sklearn-color-unfitted-level-0);\n",
              "}\n",
              "\n",
              "#sk-container-id-1 div.sk-toggleable__content.fitted {\n",
              "  /* fitted */\n",
              "  background-color: var(--sklearn-color-fitted-level-0);\n",
              "}\n",
              "\n",
              "#sk-container-id-1 div.sk-toggleable__content pre {\n",
              "  margin: 0.2em;\n",
              "  border-radius: 0.25em;\n",
              "  color: var(--sklearn-color-text);\n",
              "  /* unfitted */\n",
              "  background-color: var(--sklearn-color-unfitted-level-0);\n",
              "}\n",
              "\n",
              "#sk-container-id-1 div.sk-toggleable__content.fitted pre {\n",
              "  /* unfitted */\n",
              "  background-color: var(--sklearn-color-fitted-level-0);\n",
              "}\n",
              "\n",
              "#sk-container-id-1 input.sk-toggleable__control:checked~div.sk-toggleable__content {\n",
              "  /* Expand drop-down */\n",
              "  max-height: 200px;\n",
              "  max-width: 100%;\n",
              "  overflow: auto;\n",
              "}\n",
              "\n",
              "#sk-container-id-1 input.sk-toggleable__control:checked~label.sk-toggleable__label-arrow:before {\n",
              "  content: \"▾\";\n",
              "}\n",
              "\n",
              "/* Pipeline/ColumnTransformer-specific style */\n",
              "\n",
              "#sk-container-id-1 div.sk-label input.sk-toggleable__control:checked~label.sk-toggleable__label {\n",
              "  color: var(--sklearn-color-text);\n",
              "  background-color: var(--sklearn-color-unfitted-level-2);\n",
              "}\n",
              "\n",
              "#sk-container-id-1 div.sk-label.fitted input.sk-toggleable__control:checked~label.sk-toggleable__label {\n",
              "  background-color: var(--sklearn-color-fitted-level-2);\n",
              "}\n",
              "\n",
              "/* Estimator-specific style */\n",
              "\n",
              "/* Colorize estimator box */\n",
              "#sk-container-id-1 div.sk-estimator input.sk-toggleable__control:checked~label.sk-toggleable__label {\n",
              "  /* unfitted */\n",
              "  background-color: var(--sklearn-color-unfitted-level-2);\n",
              "}\n",
              "\n",
              "#sk-container-id-1 div.sk-estimator.fitted input.sk-toggleable__control:checked~label.sk-toggleable__label {\n",
              "  /* fitted */\n",
              "  background-color: var(--sklearn-color-fitted-level-2);\n",
              "}\n",
              "\n",
              "#sk-container-id-1 div.sk-label label.sk-toggleable__label,\n",
              "#sk-container-id-1 div.sk-label label {\n",
              "  /* The background is the default theme color */\n",
              "  color: var(--sklearn-color-text-on-default-background);\n",
              "}\n",
              "\n",
              "/* On hover, darken the color of the background */\n",
              "#sk-container-id-1 div.sk-label:hover label.sk-toggleable__label {\n",
              "  color: var(--sklearn-color-text);\n",
              "  background-color: var(--sklearn-color-unfitted-level-2);\n",
              "}\n",
              "\n",
              "/* Label box, darken color on hover, fitted */\n",
              "#sk-container-id-1 div.sk-label.fitted:hover label.sk-toggleable__label.fitted {\n",
              "  color: var(--sklearn-color-text);\n",
              "  background-color: var(--sklearn-color-fitted-level-2);\n",
              "}\n",
              "\n",
              "/* Estimator label */\n",
              "\n",
              "#sk-container-id-1 div.sk-label label {\n",
              "  font-family: monospace;\n",
              "  font-weight: bold;\n",
              "  display: inline-block;\n",
              "  line-height: 1.2em;\n",
              "}\n",
              "\n",
              "#sk-container-id-1 div.sk-label-container {\n",
              "  text-align: center;\n",
              "}\n",
              "\n",
              "/* Estimator-specific */\n",
              "#sk-container-id-1 div.sk-estimator {\n",
              "  font-family: monospace;\n",
              "  border: 1px dotted var(--sklearn-color-border-box);\n",
              "  border-radius: 0.25em;\n",
              "  box-sizing: border-box;\n",
              "  margin-bottom: 0.5em;\n",
              "  /* unfitted */\n",
              "  background-color: var(--sklearn-color-unfitted-level-0);\n",
              "}\n",
              "\n",
              "#sk-container-id-1 div.sk-estimator.fitted {\n",
              "  /* fitted */\n",
              "  background-color: var(--sklearn-color-fitted-level-0);\n",
              "}\n",
              "\n",
              "/* on hover */\n",
              "#sk-container-id-1 div.sk-estimator:hover {\n",
              "  /* unfitted */\n",
              "  background-color: var(--sklearn-color-unfitted-level-2);\n",
              "}\n",
              "\n",
              "#sk-container-id-1 div.sk-estimator.fitted:hover {\n",
              "  /* fitted */\n",
              "  background-color: var(--sklearn-color-fitted-level-2);\n",
              "}\n",
              "\n",
              "/* Specification for estimator info (e.g. \"i\" and \"?\") */\n",
              "\n",
              "/* Common style for \"i\" and \"?\" */\n",
              "\n",
              ".sk-estimator-doc-link,\n",
              "a:link.sk-estimator-doc-link,\n",
              "a:visited.sk-estimator-doc-link {\n",
              "  float: right;\n",
              "  font-size: smaller;\n",
              "  line-height: 1em;\n",
              "  font-family: monospace;\n",
              "  background-color: var(--sklearn-color-background);\n",
              "  border-radius: 1em;\n",
              "  height: 1em;\n",
              "  width: 1em;\n",
              "  text-decoration: none !important;\n",
              "  margin-left: 1ex;\n",
              "  /* unfitted */\n",
              "  border: var(--sklearn-color-unfitted-level-1) 1pt solid;\n",
              "  color: var(--sklearn-color-unfitted-level-1);\n",
              "}\n",
              "\n",
              ".sk-estimator-doc-link.fitted,\n",
              "a:link.sk-estimator-doc-link.fitted,\n",
              "a:visited.sk-estimator-doc-link.fitted {\n",
              "  /* fitted */\n",
              "  border: var(--sklearn-color-fitted-level-1) 1pt solid;\n",
              "  color: var(--sklearn-color-fitted-level-1);\n",
              "}\n",
              "\n",
              "/* On hover */\n",
              "div.sk-estimator:hover .sk-estimator-doc-link:hover,\n",
              ".sk-estimator-doc-link:hover,\n",
              "div.sk-label-container:hover .sk-estimator-doc-link:hover,\n",
              ".sk-estimator-doc-link:hover {\n",
              "  /* unfitted */\n",
              "  background-color: var(--sklearn-color-unfitted-level-3);\n",
              "  color: var(--sklearn-color-background);\n",
              "  text-decoration: none;\n",
              "}\n",
              "\n",
              "div.sk-estimator.fitted:hover .sk-estimator-doc-link.fitted:hover,\n",
              ".sk-estimator-doc-link.fitted:hover,\n",
              "div.sk-label-container:hover .sk-estimator-doc-link.fitted:hover,\n",
              ".sk-estimator-doc-link.fitted:hover {\n",
              "  /* fitted */\n",
              "  background-color: var(--sklearn-color-fitted-level-3);\n",
              "  color: var(--sklearn-color-background);\n",
              "  text-decoration: none;\n",
              "}\n",
              "\n",
              "/* Span, style for the box shown on hovering the info icon */\n",
              ".sk-estimator-doc-link span {\n",
              "  display: none;\n",
              "  z-index: 9999;\n",
              "  position: relative;\n",
              "  font-weight: normal;\n",
              "  right: .2ex;\n",
              "  padding: .5ex;\n",
              "  margin: .5ex;\n",
              "  width: min-content;\n",
              "  min-width: 20ex;\n",
              "  max-width: 50ex;\n",
              "  color: var(--sklearn-color-text);\n",
              "  box-shadow: 2pt 2pt 4pt #999;\n",
              "  /* unfitted */\n",
              "  background: var(--sklearn-color-unfitted-level-0);\n",
              "  border: .5pt solid var(--sklearn-color-unfitted-level-3);\n",
              "}\n",
              "\n",
              ".sk-estimator-doc-link.fitted span {\n",
              "  /* fitted */\n",
              "  background: var(--sklearn-color-fitted-level-0);\n",
              "  border: var(--sklearn-color-fitted-level-3);\n",
              "}\n",
              "\n",
              ".sk-estimator-doc-link:hover span {\n",
              "  display: block;\n",
              "}\n",
              "\n",
              "/* \"?\"-specific style due to the `<a>` HTML tag */\n",
              "\n",
              "#sk-container-id-1 a.estimator_doc_link {\n",
              "  float: right;\n",
              "  font-size: 1rem;\n",
              "  line-height: 1em;\n",
              "  font-family: monospace;\n",
              "  background-color: var(--sklearn-color-background);\n",
              "  border-radius: 1rem;\n",
              "  height: 1rem;\n",
              "  width: 1rem;\n",
              "  text-decoration: none;\n",
              "  /* unfitted */\n",
              "  color: var(--sklearn-color-unfitted-level-1);\n",
              "  border: var(--sklearn-color-unfitted-level-1) 1pt solid;\n",
              "}\n",
              "\n",
              "#sk-container-id-1 a.estimator_doc_link.fitted {\n",
              "  /* fitted */\n",
              "  border: var(--sklearn-color-fitted-level-1) 1pt solid;\n",
              "  color: var(--sklearn-color-fitted-level-1);\n",
              "}\n",
              "\n",
              "/* On hover */\n",
              "#sk-container-id-1 a.estimator_doc_link:hover {\n",
              "  /* unfitted */\n",
              "  background-color: var(--sklearn-color-unfitted-level-3);\n",
              "  color: var(--sklearn-color-background);\n",
              "  text-decoration: none;\n",
              "}\n",
              "\n",
              "#sk-container-id-1 a.estimator_doc_link.fitted:hover {\n",
              "  /* fitted */\n",
              "  background-color: var(--sklearn-color-fitted-level-3);\n",
              "}\n",
              "</style><div id=\"sk-container-id-1\" class=\"sk-top-container\"><div class=\"sk-text-repr-fallback\"><pre>Pipeline(memory=None,\n",
              "         steps=[(&#x27;ct&#x27;,\n",
              "                 ColumnTransformer(n_jobs=None, remainder=&#x27;drop&#x27;,\n",
              "                                   sparse_threshold=0.3,\n",
              "                                   transformer_weights=None,\n",
              "                                   transformers=[(&#x27;Standard&#x27;,\n",
              "                                                  StandardScaler(copy=True,\n",
              "                                                                 with_mean=True,\n",
              "                                                                 with_std=True),\n",
              "                                                  [&#x27;Height&#x27;, &#x27;Weight&#x27;, &#x27;Age&#x27;,\n",
              "                                                   &#x27;Reactions&#x27;, &#x27;Volleys&#x27;]),\n",
              "                                                 (&#x27;MinMax&#x27;,\n",
              "                                                  MinMaxScaler(clip=False,\n",
              "                                                               copy=True,\n",
              "                                                               feature_range=(0,\n",
              "                                                                              1)),\n",
              "                                                  [&#x27;Ball_Control&#x27;, &#x27;Dribbling&#x27;,...\n",
              "                 LGBMClassifier(boosting_type=&#x27;gbdt&#x27;, class_weight=None,\n",
              "                                colsample_bytree=1.0, importance_type=&#x27;split&#x27;,\n",
              "                                learning_rate=0.1, max_depth=-1,\n",
              "                                min_child_samples=20, min_child_weight=0.001,\n",
              "                                min_split_gain=0.0, n_estimators=100,\n",
              "                                n_jobs=None, num_leaves=31, objective=None,\n",
              "                                random_state=None, reg_alpha=0.0,\n",
              "                                reg_lambda=0.0, subsample=1.0,\n",
              "                                subsample_for_bin=200000, subsample_freq=0,\n",
              "                                verbose=-1))],\n",
              "         verbose=False)</pre><b>In a Jupyter environment, please rerun this cell to show the HTML representation or trust the notebook. <br />On GitHub, the HTML representation is unable to render, please try loading this page with nbviewer.org.</b></div><div class=\"sk-container\" hidden><div class=\"sk-item sk-dashed-wrapped\"><div class=\"sk-label-container\"><div class=\"sk-label fitted sk-toggleable\"><input class=\"sk-toggleable__control sk-hidden--visually\" id=\"sk-estimator-id-1\" type=\"checkbox\" ><label for=\"sk-estimator-id-1\" class=\"sk-toggleable__label fitted sk-toggleable__label-arrow fitted\">&nbsp;&nbsp;Pipeline<a class=\"sk-estimator-doc-link fitted\" rel=\"noreferrer\" target=\"_blank\" href=\"https://scikit-learn.org/1.4/modules/generated/sklearn.pipeline.Pipeline.html\">?<span>Documentation for Pipeline</span></a><span class=\"sk-estimator-doc-link fitted\">i<span>Fitted</span></span></label><div class=\"sk-toggleable__content fitted\"><pre>Pipeline(memory=None,\n",
              "         steps=[(&#x27;ct&#x27;,\n",
              "                 ColumnTransformer(n_jobs=None, remainder=&#x27;drop&#x27;,\n",
              "                                   sparse_threshold=0.3,\n",
              "                                   transformer_weights=None,\n",
              "                                   transformers=[(&#x27;Standard&#x27;,\n",
              "                                                  StandardScaler(copy=True,\n",
              "                                                                 with_mean=True,\n",
              "                                                                 with_std=True),\n",
              "                                                  [&#x27;Height&#x27;, &#x27;Weight&#x27;, &#x27;Age&#x27;,\n",
              "                                                   &#x27;Reactions&#x27;, &#x27;Volleys&#x27;]),\n",
              "                                                 (&#x27;MinMax&#x27;,\n",
              "                                                  MinMaxScaler(clip=False,\n",
              "                                                               copy=True,\n",
              "                                                               feature_range=(0,\n",
              "                                                                              1)),\n",
              "                                                  [&#x27;Ball_Control&#x27;, &#x27;Dribbling&#x27;,...\n",
              "                 LGBMClassifier(boosting_type=&#x27;gbdt&#x27;, class_weight=None,\n",
              "                                colsample_bytree=1.0, importance_type=&#x27;split&#x27;,\n",
              "                                learning_rate=0.1, max_depth=-1,\n",
              "                                min_child_samples=20, min_child_weight=0.001,\n",
              "                                min_split_gain=0.0, n_estimators=100,\n",
              "                                n_jobs=None, num_leaves=31, objective=None,\n",
              "                                random_state=None, reg_alpha=0.0,\n",
              "                                reg_lambda=0.0, subsample=1.0,\n",
              "                                subsample_for_bin=200000, subsample_freq=0,\n",
              "                                verbose=-1))],\n",
              "         verbose=False)</pre></div> </div></div><div class=\"sk-serial\"><div class=\"sk-item sk-dashed-wrapped\"><div class=\"sk-label-container\"><div class=\"sk-label fitted sk-toggleable\"><input class=\"sk-toggleable__control sk-hidden--visually\" id=\"sk-estimator-id-2\" type=\"checkbox\" ><label for=\"sk-estimator-id-2\" class=\"sk-toggleable__label fitted sk-toggleable__label-arrow fitted\">&nbsp;ct: ColumnTransformer<a class=\"sk-estimator-doc-link fitted\" rel=\"noreferrer\" target=\"_blank\" href=\"https://scikit-learn.org/1.4/modules/generated/sklearn.compose.ColumnTransformer.html\">?<span>Documentation for ct: ColumnTransformer</span></a></label><div class=\"sk-toggleable__content fitted\"><pre>ColumnTransformer(n_jobs=None, remainder=&#x27;drop&#x27;, sparse_threshold=0.3,\n",
              "                  transformer_weights=None,\n",
              "                  transformers=[(&#x27;Standard&#x27;,\n",
              "                                 StandardScaler(copy=True, with_mean=True,\n",
              "                                                with_std=True),\n",
              "                                 [&#x27;Height&#x27;, &#x27;Weight&#x27;, &#x27;Age&#x27;, &#x27;Reactions&#x27;,\n",
              "                                  &#x27;Volleys&#x27;]),\n",
              "                                (&#x27;MinMax&#x27;,\n",
              "                                 MinMaxScaler(clip=False, copy=True,\n",
              "                                              feature_range=(0, 1)),\n",
              "                                 [&#x27;Ball_Control&#x27;, &#x27;Dribbling&#x27;, &#x27;Marking&#x27;,\n",
              "                                  &#x27;Sliding_Tackle&#x27;, &#x27;Standi...\n",
              "                                  &#x27;Freekick_Accuracy&#x27;, &#x27;Penalties&#x27;]),\n",
              "                                (&#x27;OneHot&#x27;,\n",
              "                                 OneHotEncoder(categories=&#x27;auto&#x27;, drop=None,\n",
              "                                               dtype=&lt;class &#x27;numpy.float64&#x27;&gt;,\n",
              "                                               feature_name_combiner=&#x27;concat&#x27;,\n",
              "                                               handle_unknown=&#x27;infrequent_if_exist&#x27;,\n",
              "                                               max_categories=None,\n",
              "                                               min_frequency=None,\n",
              "                                               sparse_output=False),\n",
              "                                 [&#x27;Nationality&#x27;, &#x27;Club_Position&#x27;,\n",
              "                                  &#x27;Preffered_Foot&#x27;, &#x27;Work_Rate&#x27;, &#x27;Weak_foot&#x27;,\n",
              "                                  &#x27;Skill_Moves&#x27;])],\n",
              "                  verbose=False, verbose_feature_names_out=True)</pre></div> </div></div><div class=\"sk-parallel\"><div class=\"sk-parallel-item\"><div class=\"sk-item\"><div class=\"sk-label-container\"><div class=\"sk-label fitted sk-toggleable\"><input class=\"sk-toggleable__control sk-hidden--visually\" id=\"sk-estimator-id-3\" type=\"checkbox\" ><label for=\"sk-estimator-id-3\" class=\"sk-toggleable__label fitted sk-toggleable__label-arrow fitted\">Standard</label><div class=\"sk-toggleable__content fitted\"><pre>[&#x27;Height&#x27;, &#x27;Weight&#x27;, &#x27;Age&#x27;, &#x27;Reactions&#x27;, &#x27;Volleys&#x27;]</pre></div> </div></div><div class=\"sk-serial\"><div class=\"sk-item\"><div class=\"sk-estimator fitted sk-toggleable\"><input class=\"sk-toggleable__control sk-hidden--visually\" id=\"sk-estimator-id-4\" type=\"checkbox\" ><label for=\"sk-estimator-id-4\" class=\"sk-toggleable__label fitted sk-toggleable__label-arrow fitted\">&nbsp;StandardScaler<a class=\"sk-estimator-doc-link fitted\" rel=\"noreferrer\" target=\"_blank\" href=\"https://scikit-learn.org/1.4/modules/generated/sklearn.preprocessing.StandardScaler.html\">?<span>Documentation for StandardScaler</span></a></label><div class=\"sk-toggleable__content fitted\"><pre>StandardScaler()</pre></div> </div></div></div></div></div><div class=\"sk-parallel-item\"><div class=\"sk-item\"><div class=\"sk-label-container\"><div class=\"sk-label fitted sk-toggleable\"><input class=\"sk-toggleable__control sk-hidden--visually\" id=\"sk-estimator-id-5\" type=\"checkbox\" ><label for=\"sk-estimator-id-5\" class=\"sk-toggleable__label fitted sk-toggleable__label-arrow fitted\">MinMax</label><div class=\"sk-toggleable__content fitted\"><pre>[&#x27;Ball_Control&#x27;, &#x27;Dribbling&#x27;, &#x27;Marking&#x27;, &#x27;Sliding_Tackle&#x27;, &#x27;Standing_Tackle&#x27;, &#x27;Aggression&#x27;, &#x27;Interceptions&#x27;, &#x27;Vision&#x27;, &#x27;Composure&#x27;, &#x27;Crossing&#x27;, &#x27;Short_Pass&#x27;, &#x27;Long_Pass&#x27;, &#x27;Acceleration&#x27;, &#x27;Speed&#x27;, &#x27;Stamina&#x27;, &#x27;Strength&#x27;, &#x27;Balance&#x27;, &#x27;Agility&#x27;, &#x27;Jumping&#x27;, &#x27;Heading&#x27;, &#x27;Shot_Power&#x27;, &#x27;Finishing&#x27;, &#x27;Long_Shots&#x27;, &#x27;Curve&#x27;, &#x27;Freekick_Accuracy&#x27;, &#x27;Penalties&#x27;]</pre></div> </div></div><div class=\"sk-serial\"><div class=\"sk-item\"><div class=\"sk-estimator fitted sk-toggleable\"><input class=\"sk-toggleable__control sk-hidden--visually\" id=\"sk-estimator-id-6\" type=\"checkbox\" ><label for=\"sk-estimator-id-6\" class=\"sk-toggleable__label fitted sk-toggleable__label-arrow fitted\">&nbsp;MinMaxScaler<a class=\"sk-estimator-doc-link fitted\" rel=\"noreferrer\" target=\"_blank\" href=\"https://scikit-learn.org/1.4/modules/generated/sklearn.preprocessing.MinMaxScaler.html\">?<span>Documentation for MinMaxScaler</span></a></label><div class=\"sk-toggleable__content fitted\"><pre>MinMaxScaler()</pre></div> </div></div></div></div></div><div class=\"sk-parallel-item\"><div class=\"sk-item\"><div class=\"sk-label-container\"><div class=\"sk-label fitted sk-toggleable\"><input class=\"sk-toggleable__control sk-hidden--visually\" id=\"sk-estimator-id-7\" type=\"checkbox\" ><label for=\"sk-estimator-id-7\" class=\"sk-toggleable__label fitted sk-toggleable__label-arrow fitted\">OneHot</label><div class=\"sk-toggleable__content fitted\"><pre>[&#x27;Nationality&#x27;, &#x27;Club_Position&#x27;, &#x27;Preffered_Foot&#x27;, &#x27;Work_Rate&#x27;, &#x27;Weak_foot&#x27;, &#x27;Skill_Moves&#x27;]</pre></div> </div></div><div class=\"sk-serial\"><div class=\"sk-item\"><div class=\"sk-estimator fitted sk-toggleable\"><input class=\"sk-toggleable__control sk-hidden--visually\" id=\"sk-estimator-id-8\" type=\"checkbox\" ><label for=\"sk-estimator-id-8\" class=\"sk-toggleable__label fitted sk-toggleable__label-arrow fitted\">&nbsp;OneHotEncoder<a class=\"sk-estimator-doc-link fitted\" rel=\"noreferrer\" target=\"_blank\" href=\"https://scikit-learn.org/1.4/modules/generated/sklearn.preprocessing.OneHotEncoder.html\">?<span>Documentation for OneHotEncoder</span></a></label><div class=\"sk-toggleable__content fitted\"><pre>OneHotEncoder(handle_unknown=&#x27;infrequent_if_exist&#x27;, sparse_output=False)</pre></div> </div></div></div></div></div></div></div><div class=\"sk-item\"><div class=\"sk-estimator fitted sk-toggleable\"><input class=\"sk-toggleable__control sk-hidden--visually\" id=\"sk-estimator-id-9\" type=\"checkbox\" ><label for=\"sk-estimator-id-9\" class=\"sk-toggleable__label fitted sk-toggleable__label-arrow fitted\">LGBMClassifier</label><div class=\"sk-toggleable__content fitted\"><pre>LGBMClassifier(verbose=-1)</pre></div> </div></div></div></div></div></div>"
            ]
          },
          "metadata": {},
          "execution_count": 8
        }
      ]
    },
    {
      "cell_type": "markdown",
      "metadata": {
        "id": "poc9HSNBFeKO"
      },
      "source": [
        "### 1.3 Resultados [6 puntos]"
      ]
    },
    {
      "cell_type": "markdown",
      "metadata": {
        "id": "tGGCj8YtFil1"
      },
      "source": [
        "1. Calcule las métricas accuracy, precisión y recall de la clase positiva (la que indica que un jugador es seleccionado nacional) para evaluar el rendimiento de los distintos modelos. Verifique sus resultados usando `classification_report`. [2 puntos]\n",
        "\n",
        "2. Explique qué implican los valores de accuracy, precisión y recall de la clase positiva (la que indica que un jugador es seleccionado nacional) y cómo influye la cantidad de ejemplos por clase en los resultados obtenidos. [2 puntos]\n",
        "\n",
        "3. Explique qué métrica le parece más adecuada y concluya qué modelo tiene un mejor desempeño. [2 puntos]"
      ]
    },
    {
      "cell_type": "markdown",
      "metadata": {
        "id": "A1hkVFdujJTi"
      },
      "source": [
        "**Respuesta:**"
      ]
    },
    {
      "cell_type": "code",
      "execution_count": null,
      "metadata": {
        "id": "QNmI_tbbdQte",
        "colab": {
          "base_uri": "https://localhost:8080/"
        },
        "outputId": "dd37daca-719c-4f3d-8294-96892a16441e"
      },
      "outputs": [
        {
          "output_type": "stream",
          "name": "stdout",
          "text": [
            "Métricas para XGBClassifier\n",
            "---\n",
            "Accuracy: 0.9479190357061633\n",
            "Precision: 0.3308550185873606\n",
            "Recall (Positive class): 0.644927536231884\n",
            "Classification Report\n",
            "              precision    recall  f1-score   support\n",
            "\n",
            "           0       0.99      0.96      0.97      4259\n",
            "           1       0.33      0.64      0.44       138\n",
            "\n",
            "    accuracy                           0.95      4397\n",
            "   macro avg       0.66      0.80      0.71      4397\n",
            "weighted avg       0.97      0.95      0.96      4397\n",
            "\n",
            "Métricas para LGBMClassifier\n",
            "---\n",
            "Accuracy: 0.9504207414146009\n",
            "Precision: 0.3382899628252788\n",
            "Recall (Positive class): 0.6946564885496184\n",
            "Classification Report\n",
            "              precision    recall  f1-score   support\n",
            "\n",
            "           0       0.99      0.96      0.97      4266\n",
            "           1       0.34      0.69      0.46       131\n",
            "\n",
            "    accuracy                           0.95      4397\n",
            "   macro avg       0.66      0.83      0.71      4397\n",
            "weighted avg       0.97      0.95      0.96      4397\n",
            "\n"
          ]
        }
      ],
      "source": [
        "# 1. Cálculo de métricas\n",
        "from sklearn.metrics import accuracy_score, precision_score, recall_score, classification_report\n",
        "\n",
        "y_pred_xgboost = pipeline_xgboost.predict(X_test)\n",
        "y_pred_lightgbm = pipeline_lightgbm.predict(X_test)\n",
        "\n",
        "print(f'Métricas para XGBClassifier\\n---\\nAccuracy: {accuracy_score(y_pred_xgboost, y_test)}\\nPrecision: {precision_score(y_pred_xgboost, y_test)}\\nRecall (Positive class): {recall_score(y_pred_xgboost, y_test)}\\nClassification Report\\n{classification_report(y_pred_xgboost, y_test)}')\n",
        "print(f'Métricas para LGBMClassifier\\n---\\nAccuracy: {accuracy_score(y_pred_lightgbm, y_test)}\\nPrecision: {precision_score(y_pred_lightgbm, y_test)}\\nRecall (Positive class): {recall_score(y_pred_lightgbm, y_test)}\\nClassification Report\\n{classification_report(y_pred_lightgbm, y_test)}')"
      ]
    },
    {
      "cell_type": "markdown",
      "source": [
        "2. Las métricas de accuracy indican una buena predicción de la clase real, no obstante la métrica de precision muestra que la clase positiva se clasifica correctamente en un tercio de las veces. Esto tiene sentido, pues la clase negativa esta en una mucho mayor proporción, y el modelo debe estar sobre ajustado a esta. La métrica de recall de 0.69 respalda esto, pues muestra que una fracción importante (0.31) de falsos negativos, es decir, positivos que el modelo sesgadamente clasificó como negativos.\n",
        "\n",
        "3. La métrica más adecuada para el caso nos parece recall, pues queremos evitar que un jugador sea falsamente clasificado como de selección nacional. Respecto a esta, LGBMClassifier es un mejor modelo, pero aún así tiene un bajo precision."
      ],
      "metadata": {
        "id": "uJ__knnNy5hB"
      }
    },
    {
      "cell_type": "markdown",
      "metadata": {
        "id": "uy5VMU6ae_g6"
      },
      "source": [
        "## 2. Predicción de posiciones de jugadores [4 puntos]"
      ]
    },
    {
      "cell_type": "markdown",
      "metadata": {
        "id": "S0PGg_hLgr4H"
      },
      "source": [
        "<p align=\"center\">\n",
        "  <img src=\"https://pbs.twimg.com/media/E1rfA1aWEAYU6Ny.jpg\" width=\"300\">\n",
        "</p>"
      ]
    },
    {
      "cell_type": "markdown",
      "metadata": {
        "id": "I6rSnAesfOm3"
      },
      "source": [
        "En una nueva jornada de desmesuradas transacciones deportivas, Renacín escuchó a sus colegas discutir acerca de que el precio de cada jugador depende en gran medida de la posición en la cancha en la que juega. Y además, que hay bastantes jugadores nuevos que no tienen muy claro en que posición verdaderamente brillarían, por lo que actualmente puede que actualmente estén jugando en posiciones sub-optimas.\n",
        "\n",
        "Viendo que los resultados del primer análisis no son tan esperanzadores, el corporeo los comanda a cambiar su tarea: ahora, les solicita que construyan un clasificador enfocado en predecir la mejor posición de los jugadores en la cancha según sus características.\n",
        "\n",
        "Para lograr esto, primero, les pide que etiqueten de la siguiente manera los valores que aparecen en el atributo `Club_Position`, pidiendo que agrupen los valores en los siguientes grupos:\n",
        "\n",
        "**Nota**:  Renacín les recalca que **no deben utilizar los valores ```Sub``` y ```Res``` de esta columna**.\n",
        "\n",
        "```python\n",
        "ataque = ['ST', 'CF']\n",
        "central_ataque = ['RW', 'CAM', 'LW']\n",
        "central = ['RM', 'CM', 'LM']\n",
        "central_defensa = ['RWB', 'CDM', 'LWB']\n",
        "defensa = ['RB', 'CB', 'LB']\n",
        "arquero = ['GK']\n",
        "```\n",
        "\n",
        "La elección del clasificador se justificar en base a la siguiente [guía](https://scikit-learn.org/stable/tutorial/machine_learning_map/index.html) y se deben comentar los resultados obtenidos en la clasificación.\n",
        "\n",
        "**Tareas:** [1 punto por tarea]\n",
        "\n",
        "1. En un nuevo dataframe, aplique las etiquetas descritas anteriormente en cada uno de los valores señalados en esta sección y guárdelos en la variable `label`.\n",
        "2. Cuente cuántos por clase quedan.\n",
        "3. Entrene el nuevo pipeline y ejecute una evaluación de este.  \n",
        "4. Comente los resultados obtenidos."
      ]
    },
    {
      "cell_type": "markdown",
      "metadata": {
        "id": "sBmSaWh8i2MI"
      },
      "source": [
        "**Respuesta:**"
      ]
    },
    {
      "cell_type": "code",
      "execution_count": null,
      "metadata": {
        "id": "Ir_7zMh2i1vg",
        "colab": {
          "base_uri": "https://localhost:8080/",
          "height": 304
        },
        "outputId": "671b3fb1-f5b5-457e-9671-d759638f7ca0"
      },
      "outputs": [
        {
          "output_type": "execute_result",
          "data": {
            "text/plain": [
              "label\n",
              "defensa            1180\n",
              "central             907\n",
              "arquero             632\n",
              "central_ataque      581\n",
              "ataque              430\n",
              "central_defensa     209\n",
              "Name: count, dtype: int64"
            ],
            "text/html": [
              "<div>\n",
              "<style scoped>\n",
              "    .dataframe tbody tr th:only-of-type {\n",
              "        vertical-align: middle;\n",
              "    }\n",
              "\n",
              "    .dataframe tbody tr th {\n",
              "        vertical-align: top;\n",
              "    }\n",
              "\n",
              "    .dataframe thead th {\n",
              "        text-align: right;\n",
              "    }\n",
              "</style>\n",
              "<table border=\"1\" class=\"dataframe\">\n",
              "  <thead>\n",
              "    <tr style=\"text-align: right;\">\n",
              "      <th></th>\n",
              "      <th>count</th>\n",
              "    </tr>\n",
              "    <tr>\n",
              "      <th>label</th>\n",
              "      <th></th>\n",
              "    </tr>\n",
              "  </thead>\n",
              "  <tbody>\n",
              "    <tr>\n",
              "      <th>defensa</th>\n",
              "      <td>1180</td>\n",
              "    </tr>\n",
              "    <tr>\n",
              "      <th>central</th>\n",
              "      <td>907</td>\n",
              "    </tr>\n",
              "    <tr>\n",
              "      <th>arquero</th>\n",
              "      <td>632</td>\n",
              "    </tr>\n",
              "    <tr>\n",
              "      <th>central_ataque</th>\n",
              "      <td>581</td>\n",
              "    </tr>\n",
              "    <tr>\n",
              "      <th>ataque</th>\n",
              "      <td>430</td>\n",
              "    </tr>\n",
              "    <tr>\n",
              "      <th>central_defensa</th>\n",
              "      <td>209</td>\n",
              "    </tr>\n",
              "  </tbody>\n",
              "</table>\n",
              "</div><br><label><b>dtype:</b> int64</label>"
            ]
          },
          "metadata": {},
          "execution_count": 16
        }
      ],
      "source": [
        "# 1. Definición de label\n",
        "positions_dict = {\n",
        "    'GK': 'arquero',\n",
        "    'RB': 'defensa',\n",
        "    'CB': 'defensa',\n",
        "    'LB': 'defensa',\n",
        "    'RWB': 'central_defensa',\n",
        "    'CDM': 'central_defensa',\n",
        "    'LWB': 'central_defensa',\n",
        "    'RM': 'central',\n",
        "    'CM': 'central',\n",
        "    'LM': 'central',\n",
        "    'RW': 'central_ataque',\n",
        "    'CAM': 'central_ataque',\n",
        "    'LW': 'central_ataque',\n",
        "    'ST': 'ataque',\n",
        "    'CF': 'ataque'\n",
        "}\n",
        "\n",
        "positions_df = stats_df.copy()\n",
        "positions_df = positions_df[positions_df['Club_Position'].isin(list(positions_dict.keys()))]\n",
        "positions_df['label'] = positions_df['Club_Position'].apply(lambda x: positions_dict[x])\n",
        "\n",
        "# 2. Conteo por clase\n",
        "positions_df['label'].value_counts()"
      ]
    },
    {
      "cell_type": "code",
      "source": [
        "# 3. Entrenamiento y evaluación\n",
        "from sklearn.svm import SVC\n",
        "\n",
        "numeric_columns = [c for c in stats_df.select_dtypes(include='number') if c not in ['label', 'Weak_foot', 'Skill_Moves']]\n",
        "categorical_columns = ['Nationality', 'National_Position', 'Preffered_Foot', 'Work_Rate', 'Weak_foot', 'Skill_Moves']\n",
        "normal_columns = ['Height', 'Weight', 'Age', 'Reactions', 'Volleys']\n",
        "\n",
        "col_transformer = ColumnTransformer([\n",
        "    ('Standard', StandardScaler(), normal_columns),\n",
        "    ('MinMax', MinMaxScaler(), [c for c in numeric_columns if c not in normal_columns]),\n",
        "    ('OneHot', OneHotEncoder(sparse_output=False, handle_unknown='infrequent_if_exist'), categorical_columns),\n",
        "])\n",
        "\n",
        "pipeline_svc = Pipeline([('ct', col_transformer), ('svc', SVC())])\n",
        "\n",
        "labels = positions_df['label'].unique().tolist()\n",
        "X = positions_df.drop(columns=['label'])\n",
        "y = positions_df['label'].apply(lambda x: labels.index(x))\n",
        "\n",
        "X_train, X_test, y_train, y_test = train_test_split(X, y, stratify=y, random_state=99)\n",
        "\n",
        "pipeline_svc.fit(X_train, y_train)\n",
        "\n",
        "y_pred = pipeline_svc.predict(X_test)\n",
        "\n",
        "print(f'Métricas para SVC\\n---\\n{classification_report(y_pred, y_test, target_names=labels)}')"
      ],
      "metadata": {
        "colab": {
          "base_uri": "https://localhost:8080/"
        },
        "id": "kTOYrD2a0gjY",
        "outputId": "d8aa4b25-c65d-4b66-e2cb-3b36d2f869b5"
      },
      "execution_count": null,
      "outputs": [
        {
          "output_type": "stream",
          "name": "stdout",
          "text": [
            "Métricas para SVC\n",
            "---\n",
            "                 precision    recall  f1-score   support\n",
            "\n",
            " central_ataque       0.17      0.44      0.24        55\n",
            "         ataque       0.82      0.81      0.82       110\n",
            "        arquero       1.00      1.00      1.00       158\n",
            "        defensa       0.97      0.76      0.85       375\n",
            "        central       0.71      0.56      0.63       287\n",
            "central_defensa       0.00      0.00      0.00         0\n",
            "\n",
            "       accuracy                           0.73       985\n",
            "      macro avg       0.61      0.59      0.59       985\n",
            "   weighted avg       0.84      0.73      0.77       985\n",
            "\n"
          ]
        },
        {
          "output_type": "stream",
          "name": "stderr",
          "text": [
            "/usr/local/lib/python3.11/dist-packages/sklearn/metrics/_classification.py:1565: UndefinedMetricWarning: Recall is ill-defined and being set to 0.0 in labels with no true samples. Use `zero_division` parameter to control this behavior.\n",
            "  _warn_prf(average, modifier, f\"{metric.capitalize()} is\", len(result))\n",
            "/usr/local/lib/python3.11/dist-packages/sklearn/metrics/_classification.py:1565: UndefinedMetricWarning: Recall is ill-defined and being set to 0.0 in labels with no true samples. Use `zero_division` parameter to control this behavior.\n",
            "  _warn_prf(average, modifier, f\"{metric.capitalize()} is\", len(result))\n",
            "/usr/local/lib/python3.11/dist-packages/sklearn/metrics/_classification.py:1565: UndefinedMetricWarning: Recall is ill-defined and being set to 0.0 in labels with no true samples. Use `zero_division` parameter to control this behavior.\n",
            "  _warn_prf(average, modifier, f\"{metric.capitalize()} is\", len(result))\n"
          ]
        }
      ]
    },
    {
      "cell_type": "markdown",
      "source": [
        "4.\n",
        "\n",
        "Se utiliza el clasificador SVC según la guía.\n",
        "\n",
        "El modelo está evidentemente sobreajustado, para las clases mayoritarias, donde, por ejemplo, defensa y arquero tienen buenas predicciones, pero central_defensa no alcanza a obtener una.\n",
        "\n",
        "La clase con mejores predicciones es la de arquero, siendo estas con métricas perfectas, mientras que las peores son de central_defensa, con 0 para cada score."
      ],
      "metadata": {
        "id": "QPMHMJUe3mDI"
      }
    },
    {
      "cell_type": "markdown",
      "metadata": {
        "id": "9bL2m8nNojXM"
      },
      "source": [
        "## 3. Predicciones de Seleccionados Nacionales para el Jere Klein [30 puntos]"
      ]
    },
    {
      "cell_type": "markdown",
      "metadata": {
        "id": "_2XmRsJdsEh_"
      },
      "source": [
        "<center>\n",
        "<img src='https://www.radioactiva.cl/wp-content/uploads/2024/04/Jere-Klein-1-768x432.webp' width=500 />"
      ]
    },
    {
      "cell_type": "markdown",
      "metadata": {
        "id": "AgmUoVDsqUPu"
      },
      "source": [
        "Después de alcanzar la fama como cantante urbano, Jere Klein decide explorar una nueva faceta. Con su amor por el fútbol y convencido de que los artistas urbanos poseen un talento y versatilidad excepcionales, Jere se embarca en un proyecto innovador: desarrollar un sistema de inteligencia artificial capaz de identificar a jugadores que tienen potencial para convertirse en futbolistas profesionales. Su teoría es que muchos artistas del género urbano chileno, con sus habilidades únicas y su disciplina, podrían destacarse también en el deporte. Con este sistema, Jere espera no solo abrir nuevas oportunidades para sus colegas artistas, sino también demostrar la amplia gama de talentos que pueden ofrecer."
      ]
    },
    {
      "cell_type": "markdown",
      "metadata": {
        "id": "rD8pQ5Zfq8dE"
      },
      "source": [
        "### 2.1 ¿Qué modelo de árbol es más de \"pana\"? [10 puntos]"
      ]
    },
    {
      "cell_type": "markdown",
      "metadata": {
        "id": "zB-KUA4g99eo"
      },
      "source": [
        "<center>\n",
        "<img src='https://64.media.tumblr.com/39189215a7d3d96823cb359f35b44e05/tumblr_psmrhrR3Xw1qf5hjqo4_540.gif' width=300 />"
      ]
    },
    {
      "cell_type": "markdown",
      "metadata": {
        "id": "uL-moVhB9vPH"
      },
      "source": [
        "\n",
        "**Tareas**\n",
        "\n",
        "\n",
        "1. Considerando el la variable llamada `label` creada en la sección 1.1. Para determinar cuál modelo de árbol sería más adecuado para la tarea en cuestión, utilice PyCaret. Este deberá centrarse exclusivamente en modelos de tipo árbol. Jere ha especificado que busca un modelo que tome decisiones rápidamente y que tenga una baja tasa de falsos positivos, ya que planea invertir en estos jugadores. [3 puntos]\n",
        "\n",
        "Para la comparación, utilice los siguientes modelos:\n",
        "\n",
        "```python\n",
        "['et', 'rf', 'dt', 'xgboost', 'lightgbm', 'catboost']\n",
        "```\n",
        "\n",
        "2. Explique en brevemente que son los modelos de la siguiente lista `['et', 'rf', 'dt']` y como funcionan. [3 punto]\n",
        "\n",
        "3. Tras realizar la comparación de modelos, seleccione aquel que muestre el mejor rendimiento en términos de velocidad y precisión, especialmente en la reducción de falsos positivos. Utilice la función `evaluate_model` de PyCaret para revisar y analizar los resultados obtenidos en los siguientes aspectos:\n",
        "\n",
        "  - **Confusión Matrix**: ¿Cómo se encuentran la tasa de verdaderos positivos y verdaderos negativos?\n",
        "  - **Threshold**: ¿Es acaso el umbral por defecto del modelo el mejor para las predicciones?\n",
        "  - **Feature Importance**: ¿Cuáles son las variables con mejor desempeño? ¿A qué podría deberse esto?\n",
        "  - **Learning Curve**: ¿El modelo presenta algún problema?\n",
        "\n",
        "  [4 puntos]"
      ]
    },
    {
      "cell_type": "markdown",
      "metadata": {
        "id": "qY85nrViYROF"
      },
      "source": [
        "**Respuesta**"
      ]
    },
    {
      "cell_type": "code",
      "execution_count": 28,
      "metadata": {
        "id": "kUCjOjsEYUXL",
        "colab": {
          "base_uri": "https://localhost:8080/",
          "height": 991,
          "referenced_widgets": [
            "e63544855e95464bb337820b985957c4",
            "d68bc501fd3246f284bf56961c7acaee",
            "f738f482fbd24bd2830a2ba9303c4a18",
            "a2e814e04be64b24a12606d9cac7d2da",
            "c0a4181656144f63b6c2e564c2721030",
            "3d0547181c6b46d299f3709ea2764609",
            "19174a70db0b4ba39f504ed80dca2395",
            "bec663959f7e4229849b6833486daf4b",
            "94ffa5f62eea4d4ba14d19bde144d6fd",
            "d0b3bb2d0d8947dc86d3a17e95265906",
            "28d3947b764a44f2816a8cb38c7fcf02"
          ]
        },
        "outputId": "04a87f3e-47a9-4112-e08a-d6be66efd5f2"
      },
      "outputs": [
        {
          "output_type": "display_data",
          "data": {
            "text/plain": [
              "<pandas.io.formats.style.Styler at 0x7b168d5d1b50>"
            ],
            "text/html": [
              "<style type=\"text/css\">\n",
              "#T_1b473_row10_col1 {\n",
              "  background-color: lightgreen;\n",
              "}\n",
              "</style>\n",
              "<table id=\"T_1b473\" class=\"dataframe\">\n",
              "  <thead>\n",
              "    <tr>\n",
              "      <th class=\"blank level0\" >&nbsp;</th>\n",
              "      <th id=\"T_1b473_level0_col0\" class=\"col_heading level0 col0\" >Description</th>\n",
              "      <th id=\"T_1b473_level0_col1\" class=\"col_heading level0 col1\" >Value</th>\n",
              "    </tr>\n",
              "  </thead>\n",
              "  <tbody>\n",
              "    <tr>\n",
              "      <th id=\"T_1b473_level0_row0\" class=\"row_heading level0 row0\" >0</th>\n",
              "      <td id=\"T_1b473_row0_col0\" class=\"data row0 col0\" >Session id</td>\n",
              "      <td id=\"T_1b473_row0_col1\" class=\"data row0 col1\" >2683</td>\n",
              "    </tr>\n",
              "    <tr>\n",
              "      <th id=\"T_1b473_level0_row1\" class=\"row_heading level0 row1\" >1</th>\n",
              "      <td id=\"T_1b473_row1_col0\" class=\"data row1 col0\" >Target</td>\n",
              "      <td id=\"T_1b473_row1_col1\" class=\"data row1 col1\" >label</td>\n",
              "    </tr>\n",
              "    <tr>\n",
              "      <th id=\"T_1b473_level0_row2\" class=\"row_heading level0 row2\" >2</th>\n",
              "      <td id=\"T_1b473_row2_col0\" class=\"data row2 col0\" >Target type</td>\n",
              "      <td id=\"T_1b473_row2_col1\" class=\"data row2 col1\" >Binary</td>\n",
              "    </tr>\n",
              "    <tr>\n",
              "      <th id=\"T_1b473_level0_row3\" class=\"row_heading level0 row3\" >3</th>\n",
              "      <td id=\"T_1b473_row3_col0\" class=\"data row3 col0\" >Original data shape</td>\n",
              "      <td id=\"T_1b473_row3_col1\" class=\"data row3 col1\" >(17588, 38)</td>\n",
              "    </tr>\n",
              "    <tr>\n",
              "      <th id=\"T_1b473_level0_row4\" class=\"row_heading level0 row4\" >4</th>\n",
              "      <td id=\"T_1b473_row4_col0\" class=\"data row4 col0\" >Transformed data shape</td>\n",
              "      <td id=\"T_1b473_row4_col1\" class=\"data row4 col1\" >(17588, 46)</td>\n",
              "    </tr>\n",
              "    <tr>\n",
              "      <th id=\"T_1b473_level0_row5\" class=\"row_heading level0 row5\" >5</th>\n",
              "      <td id=\"T_1b473_row5_col0\" class=\"data row5 col0\" >Transformed train set shape</td>\n",
              "      <td id=\"T_1b473_row5_col1\" class=\"data row5 col1\" >(12311, 46)</td>\n",
              "    </tr>\n",
              "    <tr>\n",
              "      <th id=\"T_1b473_level0_row6\" class=\"row_heading level0 row6\" >6</th>\n",
              "      <td id=\"T_1b473_row6_col0\" class=\"data row6 col0\" >Transformed test set shape</td>\n",
              "      <td id=\"T_1b473_row6_col1\" class=\"data row6 col1\" >(5277, 46)</td>\n",
              "    </tr>\n",
              "    <tr>\n",
              "      <th id=\"T_1b473_level0_row7\" class=\"row_heading level0 row7\" >7</th>\n",
              "      <td id=\"T_1b473_row7_col0\" class=\"data row7 col0\" >Numeric features</td>\n",
              "      <td id=\"T_1b473_row7_col1\" class=\"data row7 col1\" >33</td>\n",
              "    </tr>\n",
              "    <tr>\n",
              "      <th id=\"T_1b473_level0_row8\" class=\"row_heading level0 row8\" >8</th>\n",
              "      <td id=\"T_1b473_row8_col0\" class=\"data row8 col0\" >Categorical features</td>\n",
              "      <td id=\"T_1b473_row8_col1\" class=\"data row8 col1\" >4</td>\n",
              "    </tr>\n",
              "    <tr>\n",
              "      <th id=\"T_1b473_level0_row9\" class=\"row_heading level0 row9\" >9</th>\n",
              "      <td id=\"T_1b473_row9_col0\" class=\"data row9 col0\" >Rows with missing values</td>\n",
              "      <td id=\"T_1b473_row9_col1\" class=\"data row9 col1\" >0.0%</td>\n",
              "    </tr>\n",
              "    <tr>\n",
              "      <th id=\"T_1b473_level0_row10\" class=\"row_heading level0 row10\" >10</th>\n",
              "      <td id=\"T_1b473_row10_col0\" class=\"data row10 col0\" >Preprocess</td>\n",
              "      <td id=\"T_1b473_row10_col1\" class=\"data row10 col1\" >True</td>\n",
              "    </tr>\n",
              "    <tr>\n",
              "      <th id=\"T_1b473_level0_row11\" class=\"row_heading level0 row11\" >11</th>\n",
              "      <td id=\"T_1b473_row11_col0\" class=\"data row11 col0\" >Imputation type</td>\n",
              "      <td id=\"T_1b473_row11_col1\" class=\"data row11 col1\" >simple</td>\n",
              "    </tr>\n",
              "    <tr>\n",
              "      <th id=\"T_1b473_level0_row12\" class=\"row_heading level0 row12\" >12</th>\n",
              "      <td id=\"T_1b473_row12_col0\" class=\"data row12 col0\" >Numeric imputation</td>\n",
              "      <td id=\"T_1b473_row12_col1\" class=\"data row12 col1\" >mean</td>\n",
              "    </tr>\n",
              "    <tr>\n",
              "      <th id=\"T_1b473_level0_row13\" class=\"row_heading level0 row13\" >13</th>\n",
              "      <td id=\"T_1b473_row13_col0\" class=\"data row13 col0\" >Categorical imputation</td>\n",
              "      <td id=\"T_1b473_row13_col1\" class=\"data row13 col1\" >mode</td>\n",
              "    </tr>\n",
              "    <tr>\n",
              "      <th id=\"T_1b473_level0_row14\" class=\"row_heading level0 row14\" >14</th>\n",
              "      <td id=\"T_1b473_row14_col0\" class=\"data row14 col0\" >Maximum one-hot encoding</td>\n",
              "      <td id=\"T_1b473_row14_col1\" class=\"data row14 col1\" >25</td>\n",
              "    </tr>\n",
              "    <tr>\n",
              "      <th id=\"T_1b473_level0_row15\" class=\"row_heading level0 row15\" >15</th>\n",
              "      <td id=\"T_1b473_row15_col0\" class=\"data row15 col0\" >Encoding method</td>\n",
              "      <td id=\"T_1b473_row15_col1\" class=\"data row15 col1\" >None</td>\n",
              "    </tr>\n",
              "    <tr>\n",
              "      <th id=\"T_1b473_level0_row16\" class=\"row_heading level0 row16\" >16</th>\n",
              "      <td id=\"T_1b473_row16_col0\" class=\"data row16 col0\" >Fold Generator</td>\n",
              "      <td id=\"T_1b473_row16_col1\" class=\"data row16 col1\" >StratifiedKFold</td>\n",
              "    </tr>\n",
              "    <tr>\n",
              "      <th id=\"T_1b473_level0_row17\" class=\"row_heading level0 row17\" >17</th>\n",
              "      <td id=\"T_1b473_row17_col0\" class=\"data row17 col0\" >Fold Number</td>\n",
              "      <td id=\"T_1b473_row17_col1\" class=\"data row17 col1\" >10</td>\n",
              "    </tr>\n",
              "    <tr>\n",
              "      <th id=\"T_1b473_level0_row18\" class=\"row_heading level0 row18\" >18</th>\n",
              "      <td id=\"T_1b473_row18_col0\" class=\"data row18 col0\" >CPU Jobs</td>\n",
              "      <td id=\"T_1b473_row18_col1\" class=\"data row18 col1\" >-1</td>\n",
              "    </tr>\n",
              "    <tr>\n",
              "      <th id=\"T_1b473_level0_row19\" class=\"row_heading level0 row19\" >19</th>\n",
              "      <td id=\"T_1b473_row19_col0\" class=\"data row19 col0\" >Use GPU</td>\n",
              "      <td id=\"T_1b473_row19_col1\" class=\"data row19 col1\" >False</td>\n",
              "    </tr>\n",
              "    <tr>\n",
              "      <th id=\"T_1b473_level0_row20\" class=\"row_heading level0 row20\" >20</th>\n",
              "      <td id=\"T_1b473_row20_col0\" class=\"data row20 col0\" >Log Experiment</td>\n",
              "      <td id=\"T_1b473_row20_col1\" class=\"data row20 col1\" >False</td>\n",
              "    </tr>\n",
              "    <tr>\n",
              "      <th id=\"T_1b473_level0_row21\" class=\"row_heading level0 row21\" >21</th>\n",
              "      <td id=\"T_1b473_row21_col0\" class=\"data row21 col0\" >Experiment Name</td>\n",
              "      <td id=\"T_1b473_row21_col1\" class=\"data row21 col1\" >clf-default-name</td>\n",
              "    </tr>\n",
              "    <tr>\n",
              "      <th id=\"T_1b473_level0_row22\" class=\"row_heading level0 row22\" >22</th>\n",
              "      <td id=\"T_1b473_row22_col0\" class=\"data row22 col0\" >USI</td>\n",
              "      <td id=\"T_1b473_row22_col1\" class=\"data row22 col1\" >710e</td>\n",
              "    </tr>\n",
              "  </tbody>\n",
              "</table>\n"
            ]
          },
          "metadata": {}
        },
        {
          "output_type": "display_data",
          "data": {
            "text/plain": [
              "<IPython.core.display.HTML object>"
            ],
            "text/html": []
          },
          "metadata": {}
        },
        {
          "output_type": "display_data",
          "data": {
            "text/plain": [
              "<pandas.io.formats.style.Styler at 0x7b168d4637d0>"
            ],
            "text/html": [
              "<style type=\"text/css\">\n",
              "#T_41ccd th {\n",
              "  text-align: left;\n",
              "}\n",
              "#T_41ccd_row0_col0, #T_41ccd_row0_col1, #T_41ccd_row0_col2, #T_41ccd_row0_col3, #T_41ccd_row0_col5, #T_41ccd_row0_col6, #T_41ccd_row0_col7, #T_41ccd_row1_col0, #T_41ccd_row1_col4, #T_41ccd_row2_col0, #T_41ccd_row2_col1, #T_41ccd_row2_col2, #T_41ccd_row2_col3, #T_41ccd_row2_col4, #T_41ccd_row2_col5, #T_41ccd_row2_col6, #T_41ccd_row2_col7, #T_41ccd_row3_col0, #T_41ccd_row3_col1, #T_41ccd_row3_col2, #T_41ccd_row3_col3, #T_41ccd_row3_col4, #T_41ccd_row3_col5, #T_41ccd_row3_col6, #T_41ccd_row3_col7, #T_41ccd_row4_col0, #T_41ccd_row4_col1, #T_41ccd_row4_col2, #T_41ccd_row4_col3, #T_41ccd_row4_col4, #T_41ccd_row4_col5, #T_41ccd_row4_col6, #T_41ccd_row4_col7, #T_41ccd_row5_col0, #T_41ccd_row5_col1, #T_41ccd_row5_col2, #T_41ccd_row5_col3, #T_41ccd_row5_col4, #T_41ccd_row5_col5, #T_41ccd_row5_col6, #T_41ccd_row5_col7 {\n",
              "  text-align: left;\n",
              "}\n",
              "#T_41ccd_row0_col4, #T_41ccd_row1_col1, #T_41ccd_row1_col2, #T_41ccd_row1_col3, #T_41ccd_row1_col5, #T_41ccd_row1_col6, #T_41ccd_row1_col7 {\n",
              "  text-align: left;\n",
              "  background-color: yellow;\n",
              "}\n",
              "#T_41ccd_row0_col8, #T_41ccd_row1_col8, #T_41ccd_row2_col8, #T_41ccd_row3_col8, #T_41ccd_row4_col8 {\n",
              "  text-align: left;\n",
              "  background-color: lightgrey;\n",
              "}\n",
              "#T_41ccd_row5_col8 {\n",
              "  text-align: left;\n",
              "  background-color: yellow;\n",
              "  background-color: lightgrey;\n",
              "}\n",
              "</style>\n",
              "<table id=\"T_41ccd\" class=\"dataframe\">\n",
              "  <thead>\n",
              "    <tr>\n",
              "      <th class=\"blank level0\" >&nbsp;</th>\n",
              "      <th id=\"T_41ccd_level0_col0\" class=\"col_heading level0 col0\" >Model</th>\n",
              "      <th id=\"T_41ccd_level0_col1\" class=\"col_heading level0 col1\" >Accuracy</th>\n",
              "      <th id=\"T_41ccd_level0_col2\" class=\"col_heading level0 col2\" >AUC</th>\n",
              "      <th id=\"T_41ccd_level0_col3\" class=\"col_heading level0 col3\" >Recall</th>\n",
              "      <th id=\"T_41ccd_level0_col4\" class=\"col_heading level0 col4\" >Prec.</th>\n",
              "      <th id=\"T_41ccd_level0_col5\" class=\"col_heading level0 col5\" >F1</th>\n",
              "      <th id=\"T_41ccd_level0_col6\" class=\"col_heading level0 col6\" >Kappa</th>\n",
              "      <th id=\"T_41ccd_level0_col7\" class=\"col_heading level0 col7\" >MCC</th>\n",
              "      <th id=\"T_41ccd_level0_col8\" class=\"col_heading level0 col8\" >TT (Sec)</th>\n",
              "    </tr>\n",
              "  </thead>\n",
              "  <tbody>\n",
              "    <tr>\n",
              "      <th id=\"T_41ccd_level0_row0\" class=\"row_heading level0 row0\" >et</th>\n",
              "      <td id=\"T_41ccd_row0_col0\" class=\"data row0 col0\" >Extra Trees Classifier</td>\n",
              "      <td id=\"T_41ccd_row0_col1\" class=\"data row0 col1\" >0.9443</td>\n",
              "      <td id=\"T_41ccd_row0_col2\" class=\"data row0 col2\" >0.9419</td>\n",
              "      <td id=\"T_41ccd_row0_col3\" class=\"data row0 col3\" >0.1276</td>\n",
              "      <td id=\"T_41ccd_row0_col4\" class=\"data row0 col4\" >0.7593</td>\n",
              "      <td id=\"T_41ccd_row0_col5\" class=\"data row0 col5\" >0.2163</td>\n",
              "      <td id=\"T_41ccd_row0_col6\" class=\"data row0 col6\" >0.2027</td>\n",
              "      <td id=\"T_41ccd_row0_col7\" class=\"data row0 col7\" >0.2939</td>\n",
              "      <td id=\"T_41ccd_row0_col8\" class=\"data row0 col8\" >2.2240</td>\n",
              "    </tr>\n",
              "    <tr>\n",
              "      <th id=\"T_41ccd_level0_row1\" class=\"row_heading level0 row1\" >lightgbm</th>\n",
              "      <td id=\"T_41ccd_row1_col0\" class=\"data row1 col0\" >Light Gradient Boosting Machine</td>\n",
              "      <td id=\"T_41ccd_row1_col1\" class=\"data row1 col1\" >0.9534</td>\n",
              "      <td id=\"T_41ccd_row1_col2\" class=\"data row1 col2\" >0.9561</td>\n",
              "      <td id=\"T_41ccd_row1_col3\" class=\"data row1 col3\" >0.4536</td>\n",
              "      <td id=\"T_41ccd_row1_col4\" class=\"data row1 col4\" >0.6751</td>\n",
              "      <td id=\"T_41ccd_row1_col5\" class=\"data row1 col5\" >0.5415</td>\n",
              "      <td id=\"T_41ccd_row1_col6\" class=\"data row1 col6\" >0.5180</td>\n",
              "      <td id=\"T_41ccd_row1_col7\" class=\"data row1 col7\" >0.5299</td>\n",
              "      <td id=\"T_41ccd_row1_col8\" class=\"data row1 col8\" >1.3810</td>\n",
              "    </tr>\n",
              "    <tr>\n",
              "      <th id=\"T_41ccd_level0_row2\" class=\"row_heading level0 row2\" >rf</th>\n",
              "      <td id=\"T_41ccd_row2_col0\" class=\"data row2 col0\" >Random Forest Classifier</td>\n",
              "      <td id=\"T_41ccd_row2_col1\" class=\"data row2 col1\" >0.9462</td>\n",
              "      <td id=\"T_41ccd_row2_col2\" class=\"data row2 col2\" >0.9404</td>\n",
              "      <td id=\"T_41ccd_row2_col3\" class=\"data row2 col3\" >0.2408</td>\n",
              "      <td id=\"T_41ccd_row2_col4\" class=\"data row2 col4\" >0.6611</td>\n",
              "      <td id=\"T_41ccd_row2_col5\" class=\"data row2 col5\" >0.3517</td>\n",
              "      <td id=\"T_41ccd_row2_col6\" class=\"data row2 col6\" >0.3302</td>\n",
              "      <td id=\"T_41ccd_row2_col7\" class=\"data row2 col7\" >0.3772</td>\n",
              "      <td id=\"T_41ccd_row2_col8\" class=\"data row2 col8\" >2.4760</td>\n",
              "    </tr>\n",
              "    <tr>\n",
              "      <th id=\"T_41ccd_level0_row3\" class=\"row_heading level0 row3\" >catboost</th>\n",
              "      <td id=\"T_41ccd_row3_col0\" class=\"data row3 col0\" >CatBoost Classifier</td>\n",
              "      <td id=\"T_41ccd_row3_col1\" class=\"data row3 col1\" >0.9506</td>\n",
              "      <td id=\"T_41ccd_row3_col2\" class=\"data row3 col2\" >0.9538</td>\n",
              "      <td id=\"T_41ccd_row3_col3\" class=\"data row3 col3\" >0.4269</td>\n",
              "      <td id=\"T_41ccd_row3_col4\" class=\"data row3 col4\" >0.6437</td>\n",
              "      <td id=\"T_41ccd_row3_col5\" class=\"data row3 col5\" >0.5118</td>\n",
              "      <td id=\"T_41ccd_row3_col6\" class=\"data row3 col6\" >0.4871</td>\n",
              "      <td id=\"T_41ccd_row3_col7\" class=\"data row3 col7\" >0.4992</td>\n",
              "      <td id=\"T_41ccd_row3_col8\" class=\"data row3 col8\" >11.7710</td>\n",
              "    </tr>\n",
              "    <tr>\n",
              "      <th id=\"T_41ccd_level0_row4\" class=\"row_heading level0 row4\" >xgboost</th>\n",
              "      <td id=\"T_41ccd_row4_col0\" class=\"data row4 col0\" >Extreme Gradient Boosting</td>\n",
              "      <td id=\"T_41ccd_row4_col1\" class=\"data row4 col1\" >0.9505</td>\n",
              "      <td id=\"T_41ccd_row4_col2\" class=\"data row4 col2\" >0.9554</td>\n",
              "      <td id=\"T_41ccd_row4_col3\" class=\"data row4 col3\" >0.4350</td>\n",
              "      <td id=\"T_41ccd_row4_col4\" class=\"data row4 col4\" >0.6377</td>\n",
              "      <td id=\"T_41ccd_row4_col5\" class=\"data row4 col5\" >0.5165</td>\n",
              "      <td id=\"T_41ccd_row4_col6\" class=\"data row4 col6\" >0.4915</td>\n",
              "      <td id=\"T_41ccd_row4_col7\" class=\"data row4 col7\" >0.5018</td>\n",
              "      <td id=\"T_41ccd_row4_col8\" class=\"data row4 col8\" >0.5690</td>\n",
              "    </tr>\n",
              "    <tr>\n",
              "      <th id=\"T_41ccd_level0_row5\" class=\"row_heading level0 row5\" >dt</th>\n",
              "      <td id=\"T_41ccd_row5_col0\" class=\"data row5 col0\" >Decision Tree Classifier</td>\n",
              "      <td id=\"T_41ccd_row5_col1\" class=\"data row5 col1\" >0.9292</td>\n",
              "      <td id=\"T_41ccd_row5_col2\" class=\"data row5 col2\" >0.7025</td>\n",
              "      <td id=\"T_41ccd_row5_col3\" class=\"data row5 col3\" >0.4442</td>\n",
              "      <td id=\"T_41ccd_row5_col4\" class=\"data row5 col4\" >0.4282</td>\n",
              "      <td id=\"T_41ccd_row5_col5\" class=\"data row5 col5\" >0.4339</td>\n",
              "      <td id=\"T_41ccd_row5_col6\" class=\"data row5 col6\" >0.3964</td>\n",
              "      <td id=\"T_41ccd_row5_col7\" class=\"data row5 col7\" >0.3976</td>\n",
              "      <td id=\"T_41ccd_row5_col8\" class=\"data row5 col8\" >0.4940</td>\n",
              "    </tr>\n",
              "  </tbody>\n",
              "</table>\n"
            ]
          },
          "metadata": {}
        },
        {
          "output_type": "display_data",
          "data": {
            "text/plain": [
              "Processing:   0%|          | 0/29 [00:00<?, ?it/s]"
            ],
            "application/vnd.jupyter.widget-view+json": {
              "version_major": 2,
              "version_minor": 0,
              "model_id": "e63544855e95464bb337820b985957c4"
            }
          },
          "metadata": {
            "application/vnd.jupyter.widget-view+json": {
              "colab": {
                "custom_widget_manager": {
                  "url": "https://ssl.gstatic.com/colaboratory-static/widgets/colab-cdn-widget-manager/2b70e893a8ba7c0f/manager.min.js"
                }
              }
            }
          }
        },
        {
          "output_type": "display_data",
          "data": {
            "text/plain": [
              "<IPython.core.display.HTML object>"
            ],
            "text/html": []
          },
          "metadata": {}
        }
      ],
      "source": [
        "# 1. Comparación\n",
        "from pycaret.datasets import get_data\n",
        "from pycaret.classification import *\n",
        "import os\n",
        "\n",
        "os.environ[\"PYCARET_CUSTOM_LOGGING_LEVEL\"] = \"CRITICAL\"\n",
        "\n",
        "# Setup PyCaret\n",
        "clf = setup(stats_df.drop(columns=['Name', 'National_Position']), target='label')\n",
        "\n",
        "# Comparación\n",
        "best = compare_models(sort = 'Precision', include=['et', 'rf', 'dt', 'xgboost', 'lightgbm', 'catboost'])"
      ]
    },
    {
      "cell_type": "markdown",
      "source": [
        "2.\n",
        "  - `dt`: Corresponde a un DecisionTreeClassifier. Implementa un árbol de decision sencillo a partir del dataset. Funciona escogiendo splits sobre las features del dataset que maximicen alguna métrica, como la ganancia de información o de gini, para así segmentar el dataset hasta llegar a nodos hoja que entregan una clasificación.\n",
        " - `et`: Corresponde a un ExtraTreeClassifier. Consiste en una ajuste randomizado de varios decision trees sobre el dataset, donde los splits se eligen de forma aleatoria y luego se obtiene una clasificación promedio entre todos los decision tree.\n",
        " - `rf`: Corresponde a un RandomForestClassifier. Implementa el algoritmo de Random Forest, que consiste en un modelo ensamblado al igual que ExtraTreeClassifier, pero utiliza bagging para la construcción de cada decision tree."
      ],
      "metadata": {
        "id": "KOSxPBzN7ofQ"
      }
    },
    {
      "cell_type": "code",
      "source": [
        "# 3. Evaluación del mejor modelo\n",
        "evaluate_model(best)"
      ],
      "metadata": {
        "id": "8PS6bwCj7pCt",
        "colab": {
          "base_uri": "https://localhost:8080/",
          "height": 611,
          "referenced_widgets": [
            "d621bb46e83a487b99914810c9d01678",
            "e48d4418493a40d7b5da52af6053c18f",
            "ebd657de6371488aa3de467403e38065",
            "397b8d59d50942a490626af42eeaf90c",
            "7da299cff94f4161a1944776dae973c4",
            "df96e527f8dc43a7b9a3a5bc7411814c",
            "c920febae64640debe40b3b8453ab23e"
          ]
        },
        "outputId": "56788df9-f4c4-4a12-93d4-373fc405d642"
      },
      "execution_count": 34,
      "outputs": [
        {
          "output_type": "display_data",
          "data": {
            "text/plain": [
              "interactive(children=(ToggleButtons(description='Plot Type:', icons=('',), options=(('Pipeline Plot', 'pipelin…"
            ],
            "application/vnd.jupyter.widget-view+json": {
              "version_major": 2,
              "version_minor": 0,
              "model_id": "d621bb46e83a487b99914810c9d01678"
            }
          },
          "metadata": {
            "application/vnd.jupyter.widget-view+json": {
              "colab": {
                "custom_widget_manager": {
                  "url": "https://ssl.gstatic.com/colaboratory-static/widgets/colab-cdn-widget-manager/2b70e893a8ba7c0f/manager.min.js"
                }
              }
            }
          }
        }
      ]
    },
    {
      "cell_type": "markdown",
      "source": [
        "3.   \n",
        "  - **Confusión Matrix**: ¿Cómo se encuentran la tasa de verdaderos positivos y verdaderos negativos? **R:** La tasa de verdaderos positivos es considerablemente alta, siendo de 0.74. Además, la tasa de verdaderos negativos tiene un comportamiento mejor aún, siendo de 0.94.\n",
        "  - **Threshold**: ¿Es acaso el umbral por defecto del modelo el mejor para las predicciones? El umbral podría ser mayor, para estar más a la derecha, que es donde se intersectan precision y recall y donde se maximiza el f1 score.\n",
        "  - **Feature Importance**: ¿Cuáles son las variables con mejor desempeño? ¿A qué podría deberse esto? **R:** La variable más importante es la nacionalidad, seguido de características como reacciones, pase corto y control de balón. Esto puede deberse a que la nacionalidad es un factor importante para saber si el jugador es seleccionado (quizás en paises más pequeños o con menos jugadores), mientras que las características de juego deben determinar qué tan bueno es el jugador, y por lo tanto su capacidad de ser seleccionado.\n",
        "  - **Learning Curve**: ¿El modelo presenta algún problema? Cómo las curva de entrenamiento es muy buena (practicamente constante en 1), pero la de cross validation es muy mala, el modelo está evidentemente sobreajustado."
      ],
      "metadata": {
        "id": "dCe7Lna19pqs"
      }
    },
    {
      "cell_type": "markdown",
      "metadata": {
        "id": "K8DSS3u1xMpB"
      },
      "source": [
        "### 2.2 Reducción de dimensionalidad [14 puntos]"
      ]
    },
    {
      "cell_type": "markdown",
      "metadata": {
        "id": "RLu0543p876P"
      },
      "source": [
        "<center>\n",
        "<img src='https://i.kym-cdn.com/photos/images/original/002/258/560/668.gif' width=400 />"
      ]
    },
    {
      "cell_type": "markdown",
      "metadata": {
        "id": "QT-bxJ0txwNF"
      },
      "source": [
        "A pesar de los resultados obtenidos previamente, el manager de Jere ha solicitado el entrenamiento de un modelo de XGBoost utilizando los datos disponibles. Además, se debe proceder a realizar una reducción de dimensionalidad basada en la importancia de las características.\n",
        "\n",
        "Para llevar a cabo esta tarea:\n",
        "\n",
        "1. Inicie entrenando un modelo XGBoost con todas las características disponibles. [2 puntos]\n",
        "\n",
        "2. Una vez el modelo esté entrenado, evalúe y clasifique las características según su importancia de forma descendente. [2 puntos]\n",
        "\n",
        "3. Utilice esta clasificación para ejecutar una búsqueda recursiva de eliminación de características, eliminando progresivamente las menos importantes y evaluando el impacto en el desempeño del modelo hasta identificar las N características más críticas. [2 puntos]\n",
        "\n",
        "4. Con este conjunto reducido de características, entrene un nuevo modelo y evalúe su rendimiento. [2 puntos]\n",
        "\n",
        "5. Posteriormente, responda a las siguientes preguntas para una comprensión más profunda de los cambios y beneficios:\n",
        "\n",
        "  - ¿El rendimiento del modelo con las características seleccionadas es similar al del modelo original? ¿Cómo se comparan en términos de precisión y robustez? [2 puntos]\n",
        "  - ¿Cuáles son los beneficios potenciales de eliminar variables del modelo? Considere factores como la simplificación del modelo, reducción del tiempo de entrenamiento, y mejora en la capacidad de generalización. [2 puntos]\n",
        "  - Comente si el modelo con menor dimensionalidad es más sencillo de explicar. Explique brevemente por qué la eliminación de ciertas características puede facilitar la comprensión y la explicación del comportamiento del modelo. [2 puntos]\n",
        "\n",
        "Notar que con esta metodologia buscamos encontrar un punto entermedio entre número de festures y desempeño. por esto, si observa que al aumentar festires el aumento es despreciable, puede no considerar agregar más features a su modelo."
      ]
    },
    {
      "cell_type": "markdown",
      "metadata": {
        "id": "NHfmK63TuDOS"
      },
      "source": [
        "**Respuesta**"
      ]
    },
    {
      "cell_type": "code",
      "execution_count": null,
      "metadata": {
        "id": "HQwUd_nsuDOe",
        "colab": {
          "base_uri": "https://localhost:8080/"
        },
        "outputId": "e15b0984-0da9-4601-adb4-1d3e0cc78df8"
      },
      "outputs": [
        {
          "output_type": "stream",
          "name": "stdout",
          "text": [
            "Métricas para XGBoost\n",
            "---\n",
            "              precision    recall  f1-score   support\n",
            "\n",
            "           0       0.99      0.96      0.97      4259\n",
            "           1       0.33      0.64      0.44       138\n",
            "\n",
            "    accuracy                           0.95      4397\n",
            "   macro avg       0.66      0.80      0.71      4397\n",
            "weighted avg       0.97      0.95      0.96      4397\n",
            "\n"
          ]
        }
      ],
      "source": [
        "# 1. Entrenamiento del modelo\n",
        "numeric_columns = [c for c in stats_df.select_dtypes(include='number') if c not in ['label', 'Weak_foot', 'Skill_Moves']]\n",
        "categorical_columns = ['Nationality', 'Club_Position', 'Preffered_Foot', 'Work_Rate', 'Weak_foot', 'Skill_Moves']\n",
        "normal_columns = ['Height', 'Weight', 'Age', 'Reactions', 'Volleys']\n",
        "\n",
        "\n",
        "col_transformer = ColumnTransformer([\n",
        "    ('Standard', StandardScaler(), normal_columns),\n",
        "    ('MinMax', MinMaxScaler(), [c for c in numeric_columns if c not in normal_columns]),\n",
        "    ('OneHot', OneHotEncoder(sparse_output=False, handle_unknown='infrequent_if_exist'), categorical_columns),\n",
        "])\n",
        "\n",
        "X = stats_df.drop(columns=['label'])\n",
        "y = stats_df['label']\n",
        "\n",
        "X_train, X_test, y_train, y_test = train_test_split(X, y, stratify=y, random_state=99)\n",
        "\n",
        "X_train = col_transformer.fit_transform(X_train)\n",
        "X_test = col_transformer.transform(X_test)\n",
        "\n",
        "xgb = XGBClassifier()\n",
        "xgb.fit(X_train, y_train)\n",
        "y_pred = xgb.predict(X_test)\n",
        "\n",
        "print(f'Métricas para XGBoost\\n---\\n{classification_report(y_pred, y_test)}')"
      ]
    },
    {
      "cell_type": "code",
      "source": [
        "# 2. Clasificar columnas por importancia de forma descendente\n",
        "feature_names = col_transformer.get_feature_names_out().tolist()\n",
        "\n",
        "importances = xgb.feature_importances_\n",
        "feature_importances_df = pd.DataFrame({\n",
        "    'feature': feature_names,\n",
        "    'importance': importances\n",
        "}).sort_values(by='importance', ascending=False)"
      ],
      "metadata": {
        "id": "vfyGOTZb_dLp"
      },
      "execution_count": null,
      "outputs": []
    },
    {
      "cell_type": "code",
      "source": [
        "# 3. Búsqueda recursiva de eliminación de características\n",
        "from sklearn.model_selection import cross_val_score\n",
        "\n",
        "precision_scores = []\n",
        "\n",
        "# Iterar sobre las características y evaluar el modelo con cada adición\n",
        "for i in range(1, len(feature_names)):\n",
        "    # Eliminar las últimas i características\n",
        "    selected_features = feature_importances_df[:-i]['feature'].tolist()\n",
        "\n",
        "    # Índices de las columnas seleccionadas\n",
        "    selected_indices = [feature_names.index(x) for x in feature_names if x in selected_features]\n",
        "\n",
        "    scores = cross_val_score(\n",
        "        xgb, X_train[:, selected_indices],\n",
        "        y_train, cv=5, scoring='precision'\n",
        "    )\n",
        "    # Almacenar la precisión del modelo con i características\n",
        "    precision_scores.append(scores)"
      ],
      "metadata": {
        "id": "QX5sv8eID50X"
      },
      "execution_count": null,
      "outputs": []
    },
    {
      "cell_type": "code",
      "source": [
        "# 4. Entrenar modelo con mejor conjunto de características\n",
        "import numpy as np\n",
        "\n",
        "max_N = np.argmax([x.mean() for x in precision_scores]) + 1\n",
        "\n",
        "# Eliminar las últimas i características\n",
        "selected_features = feature_importances_df[:-max_N]['feature'].tolist()\n",
        "\n",
        "# Índices de las columnas seleccionadas\n",
        "selected_indices = [feature_names.index(x) for x in feature_names if x in selected_features]\n",
        "\n",
        "X_train_reduced = X_train[:, selected_indices]\n",
        "X_test_reduced = X_test[:, selected_indices]\n",
        "\n",
        "xgb = XGBClassifier()\n",
        "xgb.fit(X_train_reduced, y_train)\n",
        "y_pred = xgb.predict(X_test_reduced)\n",
        "\n",
        "print(f'Métricas para XGBoost con {X_train.shape[1] - max_N} features más importantes\\n---\\n{classification_report(y_pred, y_test)}')"
      ],
      "metadata": {
        "colab": {
          "base_uri": "https://localhost:8080/"
        },
        "id": "a3D9YQQIRL2U",
        "outputId": "d9f6e763-20a6-4ae2-8b4c-a4ba06a19111"
      },
      "execution_count": null,
      "outputs": [
        {
          "output_type": "stream",
          "name": "stdout",
          "text": [
            "Métricas para XGBoost con 101 features más importantes\n",
            "---\n",
            "              precision    recall  f1-score   support\n",
            "\n",
            "           0       0.99      0.96      0.97      4260\n",
            "           1       0.32      0.64      0.43       137\n",
            "\n",
            "    accuracy                           0.95      4397\n",
            "   macro avg       0.66      0.80      0.70      4397\n",
            "weighted avg       0.97      0.95      0.96      4397\n",
            "\n"
          ]
        }
      ]
    },
    {
      "cell_type": "markdown",
      "source": [
        " 5.\n",
        "  - ¿El rendimiento del modelo con las características seleccionadas es similar al del modelo original? ¿Cómo se comparan en términos de precisión y robustez? **R:** El rendimiento es muy similar al del modelo original. En terminos de precision y recall, precision sólo varía y en una centésima, siendo mayor en el caso original. No obstante, cabe destacar que el modelo con características seleccionadas tiene más de 100 columnas menos.\n",
        "  - ¿Cuáles son los beneficios potenciales de eliminar variables del modelo? Considere factores como la simplificación del modelo, reducción del tiempo de entrenamiento, y mejora en la capacidad de generalización. **R:** El modelo se vuelve más sencillo de entrenar y de ejecutar para realizar predicciones, dado que son menos las decisiones que se evalúan. Además, al utilizar menos variables, existe menos probabilidad de que este se sobreajuste por alguna en particular, luego tiene mejores capacidades de generalización a datos no observados.\n",
        "  - Comente si el modelo con menor dimensionalidad es más sencillo de explicar. Explique brevemente por qué la eliminación de ciertas características puede facilitar la comprensión y la explicación del comportamiento del modelo. **R:** El modelo con menor dimensionalidad es más sencillo de explicar, pues las decisiones que se toman para llegar a una clasificación se simplifican. Luego, es más fácil explicar qué variables son las importantes para tomar determinadas decisiones, y luego, llevar a una clasificación particular."
      ],
      "metadata": {
        "id": "ZZ38-ZsYRUZP"
      }
    },
    {
      "cell_type": "markdown",
      "metadata": {
        "id": "PTG5cH9r3M9g"
      },
      "source": [
        "### 2.3 Calibración Probabilistica [6 puntos]"
      ]
    },
    {
      "cell_type": "markdown",
      "metadata": {
        "id": "CDL0VqjR7yvb"
      },
      "source": [
        "<center>\n",
        "<img src='https://media2.giphy.com/media/l2Je4Ku0Cx292KWv6/200w.gif?cid=6c09b952y0sihtq9tb6sz8j2023x3zxxp3qx1ocgonkpkblj&ep=v1_gifs_search&rid=200w.gif&ct=g' width=400 />"
      ]
    },
    {
      "cell_type": "markdown",
      "metadata": {
        "id": "qmOKxhAw3sic"
      },
      "source": [
        "Para lograr modelos más modulares, se recomienda realizar una calibración del modelo entrenado anteriormente, con el objetivo de obtener salidas que reflejen mayor modularidad.\n",
        "\n",
        "1. Se solicita que utilice un método de calibración que asegure que las probabilidades generadas incrementen de manera monótona. Una métrica ampliamente utilizada para evaluar la precisión de la calibración de un modelo es el Brier Score. Calcule el Brier Score para el modelo tanto antes como después de la calibración. Esto le permitirá realizar una comparación cuantitativa y determinar si la calibración ha mejorado el rendimiento del modelo. Para más información sobre el Brier Score, puede consultar el siguiente enlace: [Scikit-Learn - Brier Score Loss](https://scikit-learn.org/stable/modules/generated/sklearn.metrics.brier_score_loss.html). [3 puntos]\n",
        "\n",
        "2. Tras la calibración, examine y comente los resultados obtenidos. A su análisis añada una comparación visual de las ideales versus las salidas del modelo original (sin calibrar) y del modelo calibrado. [3 puntos]"
      ]
    },
    {
      "cell_type": "markdown",
      "metadata": {
        "id": "QIiYz_qLuD19"
      },
      "source": [
        "**Respuesta**"
      ]
    },
    {
      "cell_type": "code",
      "execution_count": null,
      "metadata": {
        "id": "l0bfSuiFuD2I",
        "colab": {
          "base_uri": "https://localhost:8080/"
        },
        "outputId": "c3beb48c-b60d-470f-f8ce-4edca71aecd7"
      },
      "outputs": [
        {
          "output_type": "stream",
          "name": "stdout",
          "text": [
            "Brier Score (sin calibrar): 0.0377\n",
            "Brier Score (calibrado): 0.0360\n"
          ]
        }
      ],
      "source": [
        "# 1. Calibración\n",
        "from sklearn.metrics import brier_score_loss\n",
        "from sklearn.model_selection import cross_validate\n",
        "from sklearn.model_selection import RepeatedStratifiedKFold\n",
        "from sklearn.calibration import CalibratedClassifierCV\n",
        "\n",
        "# Calculamos Brier Score Loss antes de calibrar\n",
        "y_prob_uncalibrated = xgb.predict_proba(X_test_reduced)[:, 1]  # Probabilidades de la clase positiva\n",
        "brier_uncalibrated = brier_score_loss(y_test, y_prob_uncalibrated)\n",
        "print(f\"Brier Score (sin calibrar): {brier_uncalibrated:.4f}\")\n",
        "\n",
        "# Hacemos un Wrap sobre el modelo\n",
        "calibrated = CalibratedClassifierCV(xgb, method='isotonic', cv=3)\n",
        "# Definimos procedimiento de evaluación\n",
        "cv = RepeatedStratifiedKFold(n_splits=10, n_repeats=1, random_state=1)\n",
        "# Evaluamos\n",
        "estimator = cross_validate(\n",
        "    calibrated, X_test_reduced, y_test,\n",
        "    scoring='roc_auc', cv=cv, n_jobs=-1,\n",
        "    return_estimator=True\n",
        ")\n",
        "\n",
        "# Brier Score Loss con modelo calibrado\n",
        "calibrated.fit(X_train_reduced, y_train)\n",
        "\n",
        "y_prob_calibrated = calibrated.predict_proba(X_test_reduced)[:, 1]\n",
        "brier_calibrated = brier_score_loss(y_test, y_prob_calibrated)\n",
        "print(f\"Brier Score (calibrado): {brier_calibrated:.4f}\")"
      ]
    },
    {
      "cell_type": "code",
      "source": [
        "# 2. Comparación visual\n",
        "import matplotlib.pyplot as plt\n",
        "from sklearn.calibration import calibration_curve\n",
        "\n",
        "# Definimos figura para hacer el plot\n",
        "fig = plt.figure()\n",
        "ax = fig.add_subplot()\n",
        "ax.plot([0, 1], [0, 1], \"b--\", label=\"Perfectly calibrated\")\n",
        "ax.set_ylabel(\"Fraction of positives\")\n",
        "ax.set_xlabel(\"Mean predicted value\")\n",
        "ax.set_title('Calibration plot (reliability curve)')\n",
        "\n",
        "# Graficamos el primer modelo raw\n",
        "prob_pos_dt = xgb.predict_proba(X_test_reduced)[:, 1]\n",
        "fraction_of_positives_dt, mean_predicted_value_dt = calibration_curve(y_test, prob_pos_dt, n_bins=20)\n",
        "ax.plot(\n",
        "    mean_predicted_value_dt,\n",
        "    fraction_of_positives_dt, \"s-\", label=\"%s\" % ('Raw model')\n",
        ")\n",
        "\n",
        "# Graficamos el modelo calibrado\n",
        "prob_pos_cc = estimator['estimator'][0].predict_proba(X_test_reduced)[:, 1]\n",
        "fraction_of_positives_cc, mean_predicted_value_cc = calibration_curve(y_test, prob_pos_cc, n_bins=10)\n",
        "ax.plot(mean_predicted_value_cc, fraction_of_positives_cc, \"s-\", label=\"%s\" % ('probabilistic calibration'))\n",
        "\n",
        "ax.legend(loc=\"lower right\")\n",
        "fig.show()"
      ],
      "metadata": {
        "colab": {
          "base_uri": "https://localhost:8080/",
          "height": 524
        },
        "id": "BMksVmErTARY",
        "outputId": "0ca7ce6d-1524-4943-e651-742aece5d2b1"
      },
      "execution_count": null,
      "outputs": [
        {
          "output_type": "display_data",
          "data": {
            "text/plain": [
              "<Figure size 800x550 with 1 Axes>"
            ],
            "image/png": "[encoded data removed]"
          },
          "metadata": {}
        }
      ]
    },
    {
      "cell_type": "markdown",
      "source": [
        "2. El Brier score disminuye levemente al calibrar el modelo, lo que implica que la diferencia entre las probabilidades de predicción y el output efectivo están más cerca, luego, mejora.\n",
        "\n",
        "Al observar la visualización, se aprecia que el modelo calibrado no es perfecto. Más aún, el modelo original no posee predicciones muy malas para valores inferiores a 0.6, sin embargo, sobre estos comienzan a tener una pendiente negativa y oscilante. Es aquí donde el modelo calibrado aparenta tener un mejor comportamiento, más cercano a la perfección."
      ],
      "metadata": {
        "id": "IwnNJQXuaVCE"
      }
    },
    {
      "cell_type": "markdown",
      "metadata": {
        "id": "XfyowQxNYGeY"
      },
      "source": [
        "Mucho éxito!\n",
        "\n",
        "<center>\n",
        "<img src=\"https://i.pinimg.com/originals/55/3d/42/553d42bea9b10e0662a05aa8726fc7f4.gif\" width=300>"
      ]
    }
  ],
  "metadata": {
    "colab": {
      "provenance": []
    },
    "kernelspec": {
      "display_name": "Python 3",
      "name": "python3"
    },
    "language_info": {
      "name": "python"
    },
    "widgets": {
      "application/vnd.jupyter.widget-state+json": {
        "e63544855e95464bb337820b985957c4": {
          "model_module": "@jupyter-widgets/controls",
          "model_name": "HBoxModel",
          "model_module_version": "1.5.0",
          "state": {
            "_dom_classes": [],
            "_model_module": "@jupyter-widgets/controls",
            "_model_module_version": "1.5.0",
            "_model_name": "HBoxModel",
            "_view_count": null,
            "_view_module": "@jupyter-widgets/controls",
            "_view_module_version": "1.5.0",
            "_view_name": "HBoxView",
            "box_style": "",
            "children": [
              "IPY_MODEL_d68bc501fd3246f284bf56961c7acaee",
              "IPY_MODEL_f738f482fbd24bd2830a2ba9303c4a18",
              "IPY_MODEL_a2e814e04be64b24a12606d9cac7d2da"
            ],
            "layout": "IPY_MODEL_c0a4181656144f63b6c2e564c2721030"
          }
        },
        "d68bc501fd3246f284bf56961c7acaee": {
          "model_module": "@jupyter-widgets/controls",
          "model_name": "HTMLModel",
          "model_module_version": "1.5.0",
          "state": {
            "_dom_classes": [],
            "_model_module": "@jupyter-widgets/controls",
            "_model_module_version": "1.5.0",
            "_model_name": "HTMLModel",
            "_view_count": null,
            "_view_module": "@jupyter-widgets/controls",
            "_view_module_version": "1.5.0",
            "_view_name": "HTMLView",
            "description": "",
            "description_tooltip": null,
            "layout": "IPY_MODEL_3d0547181c6b46d299f3709ea2764609",
            "placeholder": "​",
            "style": "IPY_MODEL_19174a70db0b4ba39f504ed80dca2395",
            "value": "Processing: 100%"
          }
        },
        "f738f482fbd24bd2830a2ba9303c4a18": {
          "model_module": "@jupyter-widgets/controls",
          "model_name": "FloatProgressModel",
          "model_module_version": "1.5.0",
          "state": {
            "_dom_classes": [],
            "_model_module": "@jupyter-widgets/controls",
            "_model_module_version": "1.5.0",
            "_model_name": "FloatProgressModel",
            "_view_count": null,
            "_view_module": "@jupyter-widgets/controls",
            "_view_module_version": "1.5.0",
            "_view_name": "ProgressView",
            "bar_style": "",
            "description": "",
            "description_tooltip": null,
            "layout": "IPY_MODEL_bec663959f7e4229849b6833486daf4b",
            "max": 29,
            "min": 0,
            "orientation": "horizontal",
            "style": "IPY_MODEL_94ffa5f62eea4d4ba14d19bde144d6fd",
            "value": 29
          }
        },
        "a2e814e04be64b24a12606d9cac7d2da": {
          "model_module": "@jupyter-widgets/controls",
          "model_name": "HTMLModel",
          "model_module_version": "1.5.0",
          "state": {
            "_dom_classes": [],
            "_model_module": "@jupyter-widgets/controls",
            "_model_module_version": "1.5.0",
            "_model_name": "HTMLModel",
            "_view_count": null,
            "_view_module": "@jupyter-widgets/controls",
            "_view_module_version": "1.5.0",
            "_view_name": "HTMLView",
            "description": "",
            "description_tooltip": null,
            "layout": "IPY_MODEL_d0b3bb2d0d8947dc86d3a17e95265906",
            "placeholder": "​",
            "style": "IPY_MODEL_28d3947b764a44f2816a8cb38c7fcf02",
            "value": " 29/29 [03:14&lt;00:00,  9.82s/it]"
          }
        },
        "c0a4181656144f63b6c2e564c2721030": {
          "model_module": "@jupyter-widgets/base",
          "model_name": "LayoutModel",
          "model_module_version": "1.2.0",
          "state": {
            "_model_module": "@jupyter-widgets/base",
            "_model_module_version": "1.2.0",
            "_model_name": "LayoutModel",
            "_view_count": null,
            "_view_module": "@jupyter-widgets/base",
            "_view_module_version": "1.2.0",
            "_view_name": "LayoutView",
            "align_content": null,
            "align_items": null,
            "align_self": null,
            "border": null,
            "bottom": null,
            "display": null,
            "flex": null,
            "flex_flow": null,
            "grid_area": null,
            "grid_auto_columns": null,
            "grid_auto_flow": null,
            "grid_auto_rows": null,
            "grid_column": null,
            "grid_gap": null,
            "grid_row": null,
            "grid_template_areas": null,
            "grid_template_columns": null,
            "grid_template_rows": null,
            "height": null,
            "justify_content": null,
            "justify_items": null,
            "left": null,
            "margin": null,
            "max_height": null,
            "max_width": null,
            "min_height": null,
            "min_width": null,
            "object_fit": null,
            "object_position": null,
            "order": null,
            "overflow": null,
            "overflow_x": null,
            "overflow_y": null,
            "padding": null,
            "right": null,
            "top": null,
            "visibility": "hidden",
            "width": null
          }
        },
        "3d0547181c6b46d299f3709ea2764609": {
          "model_module": "@jupyter-widgets/base",
          "model_name": "LayoutModel",
          "model_module_version": "1.2.0",
          "state": {
            "_model_module": "@jupyter-widgets/base",
            "_model_module_version": "1.2.0",
            "_model_name": "LayoutModel",
            "_view_count": null,
            "_view_module": "@jupyter-widgets/base",
            "_view_module_version": "1.2.0",
            "_view_name": "LayoutView",
            "align_content": null,
            "align_items": null,
            "align_self": null,
            "border": null,
            "bottom": null,
            "display": null,
            "flex": null,
            "flex_flow": null,
            "grid_area": null,
            "grid_auto_columns": null,
            "grid_auto_flow": null,
            "grid_auto_rows": null,
            "grid_column": null,
            "grid_gap": null,
            "grid_row": null,
            "grid_template_areas": null,
            "grid_template_columns": null,
            "grid_template_rows": null,
            "height": null,
            "justify_content": null,
            "justify_items": null,
            "left": null,
            "margin": null,
            "max_height": null,
            "max_width": null,
            "min_height": null,
            "min_width": null,
            "object_fit": null,
            "object_position": null,
            "order": null,
            "overflow": null,
            "overflow_x": null,
            "overflow_y": null,
            "padding": null,
            "right": null,
            "top": null,
            "visibility": null,
            "width": null
          }
        },
        "19174a70db0b4ba39f504ed80dca2395": {
          "model_module": "@jupyter-widgets/controls",
          "model_name": "DescriptionStyleModel",
          "model_module_version": "1.5.0",
          "state": {
            "_model_module": "@jupyter-widgets/controls",
            "_model_module_version": "1.5.0",
            "_model_name": "DescriptionStyleModel",
            "_view_count": null,
            "_view_module": "@jupyter-widgets/base",
            "_view_module_version": "1.2.0",
            "_view_name": "StyleView",
            "description_width": ""
          }
        },
        "bec663959f7e4229849b6833486daf4b": {
          "model_module": "@jupyter-widgets/base",
          "model_name": "LayoutModel",
          "model_module_version": "1.2.0",
          "state": {
            "_model_module": "@jupyter-widgets/base",
            "_model_module_version": "1.2.0",
            "_model_name": "LayoutModel",
            "_view_count": null,
            "_view_module": "@jupyter-widgets/base",
            "_view_module_version": "1.2.0",
            "_view_name": "LayoutView",
            "align_content": null,
            "align_items": null,
            "align_self": null,
            "border": null,
            "bottom": null,
            "display": null,
            "flex": null,
            "flex_flow": null,
            "grid_area": null,
            "grid_auto_columns": null,
            "grid_auto_flow": null,
            "grid_auto_rows": null,
            "grid_column": null,
            "grid_gap": null,
            "grid_row": null,
            "grid_template_areas": null,
            "grid_template_columns": null,
            "grid_template_rows": null,
            "height": null,
            "justify_content": null,
            "justify_items": null,
            "left": null,
            "margin": null,
            "max_height": null,
            "max_width": null,
            "min_height": null,
            "min_width": null,
            "object_fit": null,
            "object_position": null,
            "order": null,
            "overflow": null,
            "overflow_x": null,
            "overflow_y": null,
            "padding": null,
            "right": null,
            "top": null,
            "visibility": null,
            "width": null
          }
        },
        "94ffa5f62eea4d4ba14d19bde144d6fd": {
          "model_module": "@jupyter-widgets/controls",
          "model_name": "ProgressStyleModel",
          "model_module_version": "1.5.0",
          "state": {
            "_model_module": "@jupyter-widgets/controls",
            "_model_module_version": "1.5.0",
            "_model_name": "ProgressStyleModel",
            "_view_count": null,
            "_view_module": "@jupyter-widgets/base",
            "_view_module_version": "1.2.0",
            "_view_name": "StyleView",
            "bar_color": null,
            "description_width": ""
          }
        },
        "d0b3bb2d0d8947dc86d3a17e95265906": {
          "model_module": "@jupyter-widgets/base",
          "model_name": "LayoutModel",
          "model_module_version": "1.2.0",
          "state": {
            "_model_module": "@jupyter-widgets/base",
            "_model_module_version": "1.2.0",
            "_model_name": "LayoutModel",
            "_view_count": null,
            "_view_module": "@jupyter-widgets/base",
            "_view_module_version": "1.2.0",
            "_view_name": "LayoutView",
            "align_content": null,
            "align_items": null,
            "align_self": null,
            "border": null,
            "bottom": null,
            "display": null,
            "flex": null,
            "flex_flow": null,
            "grid_area": null,
            "grid_auto_columns": null,
            "grid_auto_flow": null,
            "grid_auto_rows": null,
            "grid_column": null,
            "grid_gap": null,
            "grid_row": null,
            "grid_template_areas": null,
            "grid_template_columns": null,
            "grid_template_rows": null,
            "height": null,
            "justify_content": null,
            "justify_items": null,
            "left": null,
            "margin": null,
            "max_height": null,
            "max_width": null,
            "min_height": null,
            "min_width": null,
            "object_fit": null,
            "object_position": null,
            "order": null,
            "overflow": null,
            "overflow_x": null,
            "overflow_y": null,
            "padding": null,
            "right": null,
            "top": null,
            "visibility": null,
            "width": null
          }
        },
        "28d3947b764a44f2816a8cb38c7fcf02": {
          "model_module": "@jupyter-widgets/controls",
          "model_name": "DescriptionStyleModel",
          "model_module_version": "1.5.0",
          "state": {
            "_model_module": "@jupyter-widgets/controls",
            "_model_module_version": "1.5.0",
            "_model_name": "DescriptionStyleModel",
            "_view_count": null,
            "_view_module": "@jupyter-widgets/base",
            "_view_module_version": "1.2.0",
            "_view_name": "StyleView",
            "description_width": ""
          }
        },
        "d621bb46e83a487b99914810c9d01678": {
          "model_module": "@jupyter-widgets/controls",
          "model_name": "VBoxModel",
          "model_module_version": "1.5.0",
          "state": {
            "_dom_classes": [
              "widget-interact"
            ],
            "_model_module": "@jupyter-widgets/controls",
            "_model_module_version": "1.5.0",
            "_model_name": "VBoxModel",
            "_view_count": null,
            "_view_module": "@jupyter-widgets/controls",
            "_view_module_version": "1.5.0",
            "_view_name": "VBoxView",
            "box_style": "",
            "children": [
              "IPY_MODEL_e48d4418493a40d7b5da52af6053c18f",
              "IPY_MODEL_ebd657de6371488aa3de467403e38065"
            ],
            "layout": "IPY_MODEL_397b8d59d50942a490626af42eeaf90c"
          }
        },
        "e48d4418493a40d7b5da52af6053c18f": {
          "model_module": "@jupyter-widgets/controls",
          "model_name": "ToggleButtonsModel",
          "model_module_version": "1.5.0",
          "state": {
            "_dom_classes": [],
            "_model_module": "@jupyter-widgets/controls",
            "_model_module_version": "1.5.0",
            "_model_name": "ToggleButtonsModel",
            "_options_labels": [
              "Pipeline Plot",
              "Hyperparameters",
              "AUC",
              "Confusion Matrix",
              "Threshold",
              "Precision Recall",
              "Prediction Error",
              "Class Report",
              "Feature Selection",
              "Learning Curve",
              "Manifold Learning",
              "Calibration Curve",
              "Validation Curve",
              "Dimensions",
              "Feature Importance",
              "Feature Importance (All)",
              "Decision Boundary",
              "Lift Chart",
              "Gain Chart",
              "Decision Tree",
              "KS Statistic Plot"
            ],
            "_view_count": null,
            "_view_module": "@jupyter-widgets/controls",
            "_view_module_version": "1.5.0",
            "_view_name": "ToggleButtonsView",
            "button_style": "",
            "description": "Plot Type:",
            "description_tooltip": null,
            "disabled": false,
            "icons": [
              ""
            ],
            "index": 9,
            "layout": "IPY_MODEL_7da299cff94f4161a1944776dae973c4",
            "style": "IPY_MODEL_df96e527f8dc43a7b9a3a5bc7411814c",
            "tooltips": []
          }
        },
        "ebd657de6371488aa3de467403e38065": {
          "model_module": "@jupyter-widgets/output",
          "model_name": "OutputModel",
          "model_module_version": "1.0.0",
          "state": {
            "_dom_classes": [],
            "_model_module": "@jupyter-widgets/output",
            "_model_module_version": "1.0.0",
            "_model_name": "OutputModel",
            "_view_count": null,
            "_view_module": "@jupyter-widgets/output",
            "_view_module_version": "1.0.0",
            "_view_name": "OutputView",
            "layout": "IPY_MODEL_c920febae64640debe40b3b8453ab23e",
            "msg_id": "",
            "outputs": [
              {
                "output_type": "display_data",
                "data": {
                  "text/plain": "<Figure size 800x550 with 1 Axes>",
                  "image/png": "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\n"
                },
                "metadata": {}
              }
            ]
          }
        },
        "397b8d59d50942a490626af42eeaf90c": {
          "model_module": "@jupyter-widgets/base",
          "model_name": "LayoutModel",
          "model_module_version": "1.2.0",
          "state": {
            "_model_module": "@jupyter-widgets/base",
            "_model_module_version": "1.2.0",
            "_model_name": "LayoutModel",
            "_view_count": null,
            "_view_module": "@jupyter-widgets/base",
            "_view_module_version": "1.2.0",
            "_view_name": "LayoutView",
            "align_content": null,
            "align_items": null,
            "align_self": null,
            "border": null,
            "bottom": null,
            "display": null,
            "flex": null,
            "flex_flow": null,
            "grid_area": null,
            "grid_auto_columns": null,
            "grid_auto_flow": null,
            "grid_auto_rows": null,
            "grid_column": null,
            "grid_gap": null,
            "grid_row": null,
            "grid_template_areas": null,
            "grid_template_columns": null,
            "grid_template_rows": null,
            "height": null,
            "justify_content": null,
            "justify_items": null,
            "left": null,
            "margin": null,
            "max_height": null,
            "max_width": null,
            "min_height": null,
            "min_width": null,
            "object_fit": null,
            "object_position": null,
            "order": null,
            "overflow": null,
            "overflow_x": null,
            "overflow_y": null,
            "padding": null,
            "right": null,
            "top": null,
            "visibility": null,
            "width": null
          }
        },
        "7da299cff94f4161a1944776dae973c4": {
          "model_module": "@jupyter-widgets/base",
          "model_name": "LayoutModel",
          "model_module_version": "1.2.0",
          "state": {
            "_model_module": "@jupyter-widgets/base",
            "_model_module_version": "1.2.0",
            "_model_name": "LayoutModel",
            "_view_count": null,
            "_view_module": "@jupyter-widgets/base",
            "_view_module_version": "1.2.0",
            "_view_name": "LayoutView",
            "align_content": null,
            "align_items": null,
            "align_self": null,
            "border": null,
            "bottom": null,
            "display": null,
            "flex": null,
            "flex_flow": null,
            "grid_area": null,
            "grid_auto_columns": null,
            "grid_auto_flow": null,
            "grid_auto_rows": null,
            "grid_column": null,
            "grid_gap": null,
            "grid_row": null,
            "grid_template_areas": null,
            "grid_template_columns": null,
            "grid_template_rows": null,
            "height": null,
            "justify_content": null,
            "justify_items": null,
            "left": null,
            "margin": null,
            "max_height": null,
            "max_width": null,
            "min_height": null,
            "min_width": null,
            "object_fit": null,
            "object_position": null,
            "order": null,
            "overflow": null,
            "overflow_x": null,
            "overflow_y": null,
            "padding": null,
            "right": null,
            "top": null,
            "visibility": null,
            "width": null
          }
        },
        "df96e527f8dc43a7b9a3a5bc7411814c": {
          "model_module": "@jupyter-widgets/controls",
          "model_name": "ToggleButtonsStyleModel",
          "model_module_version": "1.5.0",
          "state": {
            "_model_module": "@jupyter-widgets/controls",
            "_model_module_version": "1.5.0",
            "_model_name": "ToggleButtonsStyleModel",
            "_view_count": null,
            "_view_module": "@jupyter-widgets/base",
            "_view_module_version": "1.2.0",
            "_view_name": "StyleView",
            "button_width": "",
            "description_width": "",
            "font_weight": ""
          }
        },
        "c920febae64640debe40b3b8453ab23e": {
          "model_module": "@jupyter-widgets/base",
          "model_name": "LayoutModel",
          "model_module_version": "1.2.0",
          "state": {
            "_model_module": "@jupyter-widgets/base",
            "_model_module_version": "1.2.0",
            "_model_name": "LayoutModel",
            "_view_count": null,
            "_view_module": "@jupyter-widgets/base",
            "_view_module_version": "1.2.0",
            "_view_name": "LayoutView",
            "align_content": null,
            "align_items": null,
            "align_self": null,
            "border": null,
            "bottom": null,
            "display": null,
            "flex": null,
            "flex_flow": null,
            "grid_area": null,
            "grid_auto_columns": null,
            "grid_auto_flow": null,
            "grid_auto_rows": null,
            "grid_column": null,
            "grid_gap": null,
            "grid_row": null,
            "grid_template_areas": null,
            "grid_template_columns": null,
            "grid_template_rows": null,
            "height": null,
            "justify_content": null,
            "justify_items": null,
            "left": null,
            "margin": null,
            "max_height": null,
            "max_width": null,
            "min_height": null,
            "min_width": null,
            "object_fit": null,
            "object_position": null,
            "order": null,
            "overflow": null,
            "overflow_x": null,
            "overflow_y": null,
            "padding": null,
            "right": null,
            "top": null,
            "visibility": null,
            "width": null
          }
        }
      }
    }
  },
  "nbformat": 4,
  "nbformat_minor": 0
}